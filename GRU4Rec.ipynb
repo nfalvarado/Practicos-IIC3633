{
  "nbformat": 4,
  "nbformat_minor": 0,
  "metadata": {
    "colab": {
      "name": "GRU4Rec.ipynb",
      "provenance": [],
      "machine_shape": "hm"
    },
    "kernelspec": {
      "name": "python3",
      "display_name": "Python 3"
    },
    "language_info": {
      "name": "python"
    },
    "accelerator": "GPU"
  },
  "cells": [
    {
      "cell_type": "markdown",
      "metadata": {
        "id": "KRTg9DAwCZQk"
      },
      "source": [
        "# Descargar datos y repositorio"
      ]
    },
    {
      "cell_type": "code",
      "metadata": {
        "colab": {
          "base_uri": "https://localhost:8080/"
        },
        "id": "vtFBhLrwCXLs",
        "outputId": "18d54320-1d6d-4a94-bcad-aee7d45a6a06"
      },
      "source": [
        "# Clone repo\n",
        "!git clone https://github.com/pcerdam/KerasGRU4Rec --single-branch src"
      ],
      "execution_count": 1,
      "outputs": [
        {
          "output_type": "stream",
          "name": "stdout",
          "text": [
            "Cloning into 'src'...\n",
            "remote: Enumerating objects: 215, done.\u001b[K\n",
            "remote: Counting objects: 100% (24/24), done.\u001b[K\n",
            "remote: Compressing objects: 100% (17/17), done.\u001b[K\n",
            "remote: Total 215 (delta 9), reused 10 (delta 5), pack-reused 191\u001b[K\n",
            "Receiving objects: 100% (215/215), 10.58 MiB | 24.40 MiB/s, done.\n",
            "Resolving deltas: 100% (91/91), done.\n"
          ]
        }
      ]
    },
    {
      "cell_type": "code",
      "metadata": {
        "colab": {
          "base_uri": "https://localhost:8080/"
        },
        "id": "9HdfcusvCc2l",
        "outputId": "cb02b0d5-b21d-40ca-cea4-4d50262182b6"
      },
      "source": [
        "# Download RecSys Challenge 2015 dataset\n",
        "!rm -r sample_data\n",
        "!curl https://s3-eu-west-1.amazonaws.com/yc-rdata/yoochoose-data.7z --output data.7z"
      ],
      "execution_count": 2,
      "outputs": [
        {
          "output_type": "stream",
          "name": "stdout",
          "text": [
            "  % Total    % Received % Xferd  Average Speed   Time    Time     Time  Current\n",
            "                                 Dload  Upload   Total   Spent    Left  Speed\n",
            "100  273M  100  273M    0     0  18.9M      0  0:00:14  0:00:14 --:--:-- 21.8M\n"
          ]
        }
      ]
    },
    {
      "cell_type": "code",
      "metadata": {
        "colab": {
          "base_uri": "https://localhost:8080/"
        },
        "id": "eJqvTn4rCtFM",
        "outputId": "b718dedc-9161-41da-9d7d-71687bf5b7c8"
      },
      "source": [
        "# Extract dataset\n",
        "!7z e data.7z -o./rsc15\n",
        "!rm data.7z\n",
        "!mkdir data"
      ],
      "execution_count": 3,
      "outputs": [
        {
          "output_type": "stream",
          "name": "stdout",
          "text": [
            "\n",
            "7-Zip [64] 16.02 : Copyright (c) 1999-2016 Igor Pavlov : 2016-05-21\n",
            "p7zip Version 16.02 (locale=en_US.UTF-8,Utf16=on,HugeFiles=on,64 bits,4 CPUs Intel(R) Xeon(R) CPU @ 2.20GHz (406F0),ASM,AES-NI)\n",
            "\n",
            "Scanning the drive for archives:\n",
            "  0M Scan\b\b\b\b\b\b\b\b\b         \b\b\b\b\b\b\b\b\b1 file, 287211932 bytes (274 MiB)\n",
            "\n",
            "Extracting archive: data.7z\n",
            "--\n",
            "Path = data.7z\n",
            "Type = 7z\n",
            "Physical Size = 287211932\n",
            "Headers Size = 255\n",
            "Method = LZMA:24\n",
            "Solid = +\n",
            "Blocks = 2\n",
            "\n",
            "  0%\b\b\b\b    \b\b\b\b  0% - yoochoose-buys.dat\b\b\b\b\b\b\b\b\b\b\b\b\b\b\b\b\b\b\b\b\b\b\b\b\b                         \b\b\b\b\b\b\b\b\b\b\b\b\b\b\b\b\b\b\b\b\b\b\b\b\b  1% - yoochoose-buys.dat\b\b\b\b\b\b\b\b\b\b\b\b\b\b\b\b\b\b\b\b\b\b\b\b\b                         \b\b\b\b\b\b\b\b\b\b\b\b\b\b\b\b\b\b\b\b\b\b\b\b\b  2% - yoochoose-buys.dat\b\b\b\b\b\b\b\b\b\b\b\b\b\b\b\b\b\b\b\b\b\b\b\b\b                         \b\b\b\b\b\b\b\b\b\b\b\b\b\b\b\b\b\b\b\b\b\b\b\b\b  3% 1 - yoochoose-clicks.dat\b\b\b\b\b\b\b\b\b\b\b\b\b\b\b\b\b\b\b\b\b\b\b\b\b\b\b\b\b                             \b\b\b\b\b\b\b\b\b\b\b\b\b\b\b\b\b\b\b\b\b\b\b\b\b\b\b\b\b  4% 1 - yoochoose-clicks.dat\b\b\b\b\b\b\b\b\b\b\b\b\b\b\b\b\b\b\b\b\b\b\b\b\b\b\b\b\b                             \b\b\b\b\b\b\b\b\b\b\b\b\b\b\b\b\b\b\b\b\b\b\b\b\b\b\b\b\b  5% 1 - yoochoose-clicks.dat\b\b\b\b\b\b\b\b\b\b\b\b\b\b\b\b\b\b\b\b\b\b\b\b\b\b\b\b\b                             \b\b\b\b\b\b\b\b\b\b\b\b\b\b\b\b\b\b\b\b\b\b\b\b\b\b\b\b\b  6% 1 - yoochoose-clicks.dat\b\b\b\b\b\b\b\b\b\b\b\b\b\b\b\b\b\b\b\b\b\b\b\b\b\b\b\b\b                             \b\b\b\b\b\b\b\b\b\b\b\b\b\b\b\b\b\b\b\b\b\b\b\b\b\b\b\b\b  7% 1 - yoochoose-clicks.dat\b\b\b\b\b\b\b\b\b\b\b\b\b\b\b\b\b\b\b\b\b\b\b\b\b\b\b\b\b                             \b\b\b\b\b\b\b\b\b\b\b\b\b\b\b\b\b\b\b\b\b\b\b\b\b\b\b\b\b  8% 1 - yoochoose-clicks.dat\b\b\b\b\b\b\b\b\b\b\b\b\b\b\b\b\b\b\b\b\b\b\b\b\b\b\b\b\b                             \b\b\b\b\b\b\b\b\b\b\b\b\b\b\b\b\b\b\b\b\b\b\b\b\b\b\b\b\b  9% 1 - yoochoose-clicks.dat\b\b\b\b\b\b\b\b\b\b\b\b\b\b\b\b\b\b\b\b\b\b\b\b\b\b\b\b\b                             \b\b\b\b\b\b\b\b\b\b\b\b\b\b\b\b\b\b\b\b\b\b\b\b\b\b\b\b\b 10% 1 - yoochoose-clicks.dat\b\b\b\b\b\b\b\b\b\b\b\b\b\b\b\b\b\b\b\b\b\b\b\b\b\b\b\b\b                             \b\b\b\b\b\b\b\b\b\b\b\b\b\b\b\b\b\b\b\b\b\b\b\b\b\b\b\b\b 11% 1 - yoochoose-clicks.dat\b\b\b\b\b\b\b\b\b\b\b\b\b\b\b\b\b\b\b\b\b\b\b\b\b\b\b\b\b                             \b\b\b\b\b\b\b\b\b\b\b\b\b\b\b\b\b\b\b\b\b\b\b\b\b\b\b\b\b 12% 1 - yoochoose-clicks.dat\b\b\b\b\b\b\b\b\b\b\b\b\b\b\b\b\b\b\b\b\b\b\b\b\b\b\b\b\b                             \b\b\b\b\b\b\b\b\b\b\b\b\b\b\b\b\b\b\b\b\b\b\b\b\b\b\b\b\b 13% 1 - yoochoose-clicks.dat\b\b\b\b\b\b\b\b\b\b\b\b\b\b\b\b\b\b\b\b\b\b\b\b\b\b\b\b\b                             \b\b\b\b\b\b\b\b\b\b\b\b\b\b\b\b\b\b\b\b\b\b\b\b\b\b\b\b\b 14% 1 - yoochoose-clicks.dat\b\b\b\b\b\b\b\b\b\b\b\b\b\b\b\b\b\b\b\b\b\b\b\b\b\b\b\b\b                             \b\b\b\b\b\b\b\b\b\b\b\b\b\b\b\b\b\b\b\b\b\b\b\b\b\b\b\b\b 15% 1 - yoochoose-clicks.dat\b\b\b\b\b\b\b\b\b\b\b\b\b\b\b\b\b\b\b\b\b\b\b\b\b\b\b\b\b                             \b\b\b\b\b\b\b\b\b\b\b\b\b\b\b\b\b\b\b\b\b\b\b\b\b\b\b\b\b 16% 1 - yoochoose-clicks.dat\b\b\b\b\b\b\b\b\b\b\b\b\b\b\b\b\b\b\b\b\b\b\b\b\b\b\b\b\b                             \b\b\b\b\b\b\b\b\b\b\b\b\b\b\b\b\b\b\b\b\b\b\b\b\b\b\b\b\b 17% 1 - yoochoose-clicks.dat\b\b\b\b\b\b\b\b\b\b\b\b\b\b\b\b\b\b\b\b\b\b\b\b\b\b\b\b\b                             \b\b\b\b\b\b\b\b\b\b\b\b\b\b\b\b\b\b\b\b\b\b\b\b\b\b\b\b\b 18% 1 - yoochoose-clicks.dat\b\b\b\b\b\b\b\b\b\b\b\b\b\b\b\b\b\b\b\b\b\b\b\b\b\b\b\b\b                             \b\b\b\b\b\b\b\b\b\b\b\b\b\b\b\b\b\b\b\b\b\b\b\b\b\b\b\b\b 19% 1 - yoochoose-clicks.dat\b\b\b\b\b\b\b\b\b\b\b\b\b\b\b\b\b\b\b\b\b\b\b\b\b\b\b\b\b                             \b\b\b\b\b\b\b\b\b\b\b\b\b\b\b\b\b\b\b\b\b\b\b\b\b\b\b\b\b 20% 1 - yoochoose-clicks.dat\b\b\b\b\b\b\b\b\b\b\b\b\b\b\b\b\b\b\b\b\b\b\b\b\b\b\b\b\b                             \b\b\b\b\b\b\b\b\b\b\b\b\b\b\b\b\b\b\b\b\b\b\b\b\b\b\b\b\b 21% 1 - yoochoose-clicks.dat\b\b\b\b\b\b\b\b\b\b\b\b\b\b\b\b\b\b\b\b\b\b\b\b\b\b\b\b\b                             \b\b\b\b\b\b\b\b\b\b\b\b\b\b\b\b\b\b\b\b\b\b\b\b\b\b\b\b\b 22% 1 - yoochoose-clicks.dat\b\b\b\b\b\b\b\b\b\b\b\b\b\b\b\b\b\b\b\b\b\b\b\b\b\b\b\b\b                             \b\b\b\b\b\b\b\b\b\b\b\b\b\b\b\b\b\b\b\b\b\b\b\b\b\b\b\b\b 23% 1 - yoochoose-clicks.dat\b\b\b\b\b\b\b\b\b\b\b\b\b\b\b\b\b\b\b\b\b\b\b\b\b\b\b\b\b                             \b\b\b\b\b\b\b\b\b\b\b\b\b\b\b\b\b\b\b\b\b\b\b\b\b\b\b\b\b 24% 1 - yoochoose-clicks.dat\b\b\b\b\b\b\b\b\b\b\b\b\b\b\b\b\b\b\b\b\b\b\b\b\b\b\b\b\b                             \b\b\b\b\b\b\b\b\b\b\b\b\b\b\b\b\b\b\b\b\b\b\b\b\b\b\b\b\b 25% 1 - yoochoose-clicks.dat\b\b\b\b\b\b\b\b\b\b\b\b\b\b\b\b\b\b\b\b\b\b\b\b\b\b\b\b\b                             \b\b\b\b\b\b\b\b\b\b\b\b\b\b\b\b\b\b\b\b\b\b\b\b\b\b\b\b\b 26% 1 - yoochoose-clicks.dat\b\b\b\b\b\b\b\b\b\b\b\b\b\b\b\b\b\b\b\b\b\b\b\b\b\b\b\b\b                             \b\b\b\b\b\b\b\b\b\b\b\b\b\b\b\b\b\b\b\b\b\b\b\b\b\b\b\b\b 27% 1 - yoochoose-clicks.dat\b\b\b\b\b\b\b\b\b\b\b\b\b\b\b\b\b\b\b\b\b\b\b\b\b\b\b\b\b                             \b\b\b\b\b\b\b\b\b\b\b\b\b\b\b\b\b\b\b\b\b\b\b\b\b\b\b\b\b 28% 1 - yoochoose-clicks.dat\b\b\b\b\b\b\b\b\b\b\b\b\b\b\b\b\b\b\b\b\b\b\b\b\b\b\b\b\b                             \b\b\b\b\b\b\b\b\b\b\b\b\b\b\b\b\b\b\b\b\b\b\b\b\b\b\b\b\b 29% 1 - yoochoose-clicks.dat\b\b\b\b\b\b\b\b\b\b\b\b\b\b\b\b\b\b\b\b\b\b\b\b\b\b\b\b\b                             \b\b\b\b\b\b\b\b\b\b\b\b\b\b\b\b\b\b\b\b\b\b\b\b\b\b\b\b\b 30% 1 - yoochoose-clicks.dat\b\b\b\b\b\b\b\b\b\b\b\b\b\b\b\b\b\b\b\b\b\b\b\b\b\b\b\b\b                             \b\b\b\b\b\b\b\b\b\b\b\b\b\b\b\b\b\b\b\b\b\b\b\b\b\b\b\b\b 31% 1 - yoochoose-clicks.dat\b\b\b\b\b\b\b\b\b\b\b\b\b\b\b\b\b\b\b\b\b\b\b\b\b\b\b\b\b                             \b\b\b\b\b\b\b\b\b\b\b\b\b\b\b\b\b\b\b\b\b\b\b\b\b\b\b\b\b 32% 1 - yoochoose-clicks.dat\b\b\b\b\b\b\b\b\b\b\b\b\b\b\b\b\b\b\b\b\b\b\b\b\b\b\b\b\b                             \b\b\b\b\b\b\b\b\b\b\b\b\b\b\b\b\b\b\b\b\b\b\b\b\b\b\b\b\b 33% 1 - yoochoose-clicks.dat\b\b\b\b\b\b\b\b\b\b\b\b\b\b\b\b\b\b\b\b\b\b\b\b\b\b\b\b\b                             \b\b\b\b\b\b\b\b\b\b\b\b\b\b\b\b\b\b\b\b\b\b\b\b\b\b\b\b\b 34% 1 - yoochoose-clicks.dat\b\b\b\b\b\b\b\b\b\b\b\b\b\b\b\b\b\b\b\b\b\b\b\b\b\b\b\b\b                             \b\b\b\b\b\b\b\b\b\b\b\b\b\b\b\b\b\b\b\b\b\b\b\b\b\b\b\b\b 35% 1 - yoochoose-clicks.dat\b\b\b\b\b\b\b\b\b\b\b\b\b\b\b\b\b\b\b\b\b\b\b\b\b\b\b\b\b                             \b\b\b\b\b\b\b\b\b\b\b\b\b\b\b\b\b\b\b\b\b\b\b\b\b\b\b\b\b 36% 1 - yoochoose-clicks.dat\b\b\b\b\b\b\b\b\b\b\b\b\b\b\b\b\b\b\b\b\b\b\b\b\b\b\b\b\b                             \b\b\b\b\b\b\b\b\b\b\b\b\b\b\b\b\b\b\b\b\b\b\b\b\b\b\b\b\b 37% 1 - yoochoose-clicks.dat\b\b\b\b\b\b\b\b\b\b\b\b\b\b\b\b\b\b\b\b\b\b\b\b\b\b\b\b\b                             \b\b\b\b\b\b\b\b\b\b\b\b\b\b\b\b\b\b\b\b\b\b\b\b\b\b\b\b\b 38% 1 - yoochoose-clicks.dat\b\b\b\b\b\b\b\b\b\b\b\b\b\b\b\b\b\b\b\b\b\b\b\b\b\b\b\b\b                             \b\b\b\b\b\b\b\b\b\b\b\b\b\b\b\b\b\b\b\b\b\b\b\b\b\b\b\b\b 39% 1 - yoochoose-clicks.dat\b\b\b\b\b\b\b\b\b\b\b\b\b\b\b\b\b\b\b\b\b\b\b\b\b\b\b\b\b                             \b\b\b\b\b\b\b\b\b\b\b\b\b\b\b\b\b\b\b\b\b\b\b\b\b\b\b\b\b 40% 1 - yoochoose-clicks.dat\b\b\b\b\b\b\b\b\b\b\b\b\b\b\b\b\b\b\b\b\b\b\b\b\b\b\b\b\b                             \b\b\b\b\b\b\b\b\b\b\b\b\b\b\b\b\b\b\b\b\b\b\b\b\b\b\b\b\b 41% 1 - yoochoose-clicks.dat\b\b\b\b\b\b\b\b\b\b\b\b\b\b\b\b\b\b\b\b\b\b\b\b\b\b\b\b\b                             \b\b\b\b\b\b\b\b\b\b\b\b\b\b\b\b\b\b\b\b\b\b\b\b\b\b\b\b\b 42% 1 - yoochoose-clicks.dat\b\b\b\b\b\b\b\b\b\b\b\b\b\b\b\b\b\b\b\b\b\b\b\b\b\b\b\b\b                             \b\b\b\b\b\b\b\b\b\b\b\b\b\b\b\b\b\b\b\b\b\b\b\b\b\b\b\b\b 43% 1 - yoochoose-clicks.dat\b\b\b\b\b\b\b\b\b\b\b\b\b\b\b\b\b\b\b\b\b\b\b\b\b\b\b\b\b                             \b\b\b\b\b\b\b\b\b\b\b\b\b\b\b\b\b\b\b\b\b\b\b\b\b\b\b\b\b 44% 1 - yoochoose-clicks.dat\b\b\b\b\b\b\b\b\b\b\b\b\b\b\b\b\b\b\b\b\b\b\b\b\b\b\b\b\b                             \b\b\b\b\b\b\b\b\b\b\b\b\b\b\b\b\b\b\b\b\b\b\b\b\b\b\b\b\b 45% 1 - yoochoose-clicks.dat\b\b\b\b\b\b\b\b\b\b\b\b\b\b\b\b\b\b\b\b\b\b\b\b\b\b\b\b\b                             \b\b\b\b\b\b\b\b\b\b\b\b\b\b\b\b\b\b\b\b\b\b\b\b\b\b\b\b\b 46% 1 - yoochoose-clicks.dat\b\b\b\b\b\b\b\b\b\b\b\b\b\b\b\b\b\b\b\b\b\b\b\b\b\b\b\b\b                             \b\b\b\b\b\b\b\b\b\b\b\b\b\b\b\b\b\b\b\b\b\b\b\b\b\b\b\b\b 47% 1 - yoochoose-clicks.dat\b\b\b\b\b\b\b\b\b\b\b\b\b\b\b\b\b\b\b\b\b\b\b\b\b\b\b\b\b                             \b\b\b\b\b\b\b\b\b\b\b\b\b\b\b\b\b\b\b\b\b\b\b\b\b\b\b\b\b 48% 1 - yoochoose-clicks.dat\b\b\b\b\b\b\b\b\b\b\b\b\b\b\b\b\b\b\b\b\b\b\b\b\b\b\b\b\b                             \b\b\b\b\b\b\b\b\b\b\b\b\b\b\b\b\b\b\b\b\b\b\b\b\b\b\b\b\b 49% 1 - yoochoose-clicks.dat\b\b\b\b\b\b\b\b\b\b\b\b\b\b\b\b\b\b\b\b\b\b\b\b\b\b\b\b\b                             \b\b\b\b\b\b\b\b\b\b\b\b\b\b\b\b\b\b\b\b\b\b\b\b\b\b\b\b\b 50% 1 - yoochoose-clicks.dat\b\b\b\b\b\b\b\b\b\b\b\b\b\b\b\b\b\b\b\b\b\b\b\b\b\b\b\b\b                             \b\b\b\b\b\b\b\b\b\b\b\b\b\b\b\b\b\b\b\b\b\b\b\b\b\b\b\b\b 51% 1 - yoochoose-clicks.dat\b\b\b\b\b\b\b\b\b\b\b\b\b\b\b\b\b\b\b\b\b\b\b\b\b\b\b\b\b                             \b\b\b\b\b\b\b\b\b\b\b\b\b\b\b\b\b\b\b\b\b\b\b\b\b\b\b\b\b 52% 1 - yoochoose-clicks.dat\b\b\b\b\b\b\b\b\b\b\b\b\b\b\b\b\b\b\b\b\b\b\b\b\b\b\b\b\b                             \b\b\b\b\b\b\b\b\b\b\b\b\b\b\b\b\b\b\b\b\b\b\b\b\b\b\b\b\b 53% 1 - yoochoose-clicks.dat\b\b\b\b\b\b\b\b\b\b\b\b\b\b\b\b\b\b\b\b\b\b\b\b\b\b\b\b\b                             \b\b\b\b\b\b\b\b\b\b\b\b\b\b\b\b\b\b\b\b\b\b\b\b\b\b\b\b\b 54% 1 - yoochoose-clicks.dat\b\b\b\b\b\b\b\b\b\b\b\b\b\b\b\b\b\b\b\b\b\b\b\b\b\b\b\b\b                             \b\b\b\b\b\b\b\b\b\b\b\b\b\b\b\b\b\b\b\b\b\b\b\b\b\b\b\b\b 55% 1 - yoochoose-clicks.dat\b\b\b\b\b\b\b\b\b\b\b\b\b\b\b\b\b\b\b\b\b\b\b\b\b\b\b\b\b                             \b\b\b\b\b\b\b\b\b\b\b\b\b\b\b\b\b\b\b\b\b\b\b\b\b\b\b\b\b 56% 1 - yoochoose-clicks.dat\b\b\b\b\b\b\b\b\b\b\b\b\b\b\b\b\b\b\b\b\b\b\b\b\b\b\b\b\b                             \b\b\b\b\b\b\b\b\b\b\b\b\b\b\b\b\b\b\b\b\b\b\b\b\b\b\b\b\b 57% 1 - yoochoose-clicks.dat\b\b\b\b\b\b\b\b\b\b\b\b\b\b\b\b\b\b\b\b\b\b\b\b\b\b\b\b\b                             \b\b\b\b\b\b\b\b\b\b\b\b\b\b\b\b\b\b\b\b\b\b\b\b\b\b\b\b\b 58% 1 - yoochoose-clicks.dat\b\b\b\b\b\b\b\b\b\b\b\b\b\b\b\b\b\b\b\b\b\b\b\b\b\b\b\b\b                             \b\b\b\b\b\b\b\b\b\b\b\b\b\b\b\b\b\b\b\b\b\b\b\b\b\b\b\b\b 59% 1 - yoochoose-clicks.dat\b\b\b\b\b\b\b\b\b\b\b\b\b\b\b\b\b\b\b\b\b\b\b\b\b\b\b\b\b                             \b\b\b\b\b\b\b\b\b\b\b\b\b\b\b\b\b\b\b\b\b\b\b\b\b\b\b\b\b 60% 1 - yoochoose-clicks.dat\b\b\b\b\b\b\b\b\b\b\b\b\b\b\b\b\b\b\b\b\b\b\b\b\b\b\b\b\b                             \b\b\b\b\b\b\b\b\b\b\b\b\b\b\b\b\b\b\b\b\b\b\b\b\b\b\b\b\b 61% 1 - yoochoose-clicks.dat\b\b\b\b\b\b\b\b\b\b\b\b\b\b\b\b\b\b\b\b\b\b\b\b\b\b\b\b\b                             \b\b\b\b\b\b\b\b\b\b\b\b\b\b\b\b\b\b\b\b\b\b\b\b\b\b\b\b\b 62% 1 - yoochoose-clicks.dat\b\b\b\b\b\b\b\b\b\b\b\b\b\b\b\b\b\b\b\b\b\b\b\b\b\b\b\b\b                             \b\b\b\b\b\b\b\b\b\b\b\b\b\b\b\b\b\b\b\b\b\b\b\b\b\b\b\b\b 63% 1 - yoochoose-clicks.dat\b\b\b\b\b\b\b\b\b\b\b\b\b\b\b\b\b\b\b\b\b\b\b\b\b\b\b\b\b                             \b\b\b\b\b\b\b\b\b\b\b\b\b\b\b\b\b\b\b\b\b\b\b\b\b\b\b\b\b 64% 1 - yoochoose-clicks.dat\b\b\b\b\b\b\b\b\b\b\b\b\b\b\b\b\b\b\b\b\b\b\b\b\b\b\b\b\b                             \b\b\b\b\b\b\b\b\b\b\b\b\b\b\b\b\b\b\b\b\b\b\b\b\b\b\b\b\b 65% 1 - yoochoose-clicks.dat\b\b\b\b\b\b\b\b\b\b\b\b\b\b\b\b\b\b\b\b\b\b\b\b\b\b\b\b\b                             \b\b\b\b\b\b\b\b\b\b\b\b\b\b\b\b\b\b\b\b\b\b\b\b\b\b\b\b\b 66% 1 - yoochoose-clicks.dat\b\b\b\b\b\b\b\b\b\b\b\b\b\b\b\b\b\b\b\b\b\b\b\b\b\b\b\b\b                             \b\b\b\b\b\b\b\b\b\b\b\b\b\b\b\b\b\b\b\b\b\b\b\b\b\b\b\b\b 67% 1 - yoochoose-clicks.dat\b\b\b\b\b\b\b\b\b\b\b\b\b\b\b\b\b\b\b\b\b\b\b\b\b\b\b\b\b                             \b\b\b\b\b\b\b\b\b\b\b\b\b\b\b\b\b\b\b\b\b\b\b\b\b\b\b\b\b 68% 1 - yoochoose-clicks.dat\b\b\b\b\b\b\b\b\b\b\b\b\b\b\b\b\b\b\b\b\b\b\b\b\b\b\b\b\b                             \b\b\b\b\b\b\b\b\b\b\b\b\b\b\b\b\b\b\b\b\b\b\b\b\b\b\b\b\b 69% 1 - yoochoose-clicks.dat\b\b\b\b\b\b\b\b\b\b\b\b\b\b\b\b\b\b\b\b\b\b\b\b\b\b\b\b\b                             \b\b\b\b\b\b\b\b\b\b\b\b\b\b\b\b\b\b\b\b\b\b\b\b\b\b\b\b\b 70% 1 - yoochoose-clicks.dat\b\b\b\b\b\b\b\b\b\b\b\b\b\b\b\b\b\b\b\b\b\b\b\b\b\b\b\b\b                             \b\b\b\b\b\b\b\b\b\b\b\b\b\b\b\b\b\b\b\b\b\b\b\b\b\b\b\b\b 71% 1 - yoochoose-clicks.dat\b\b\b\b\b\b\b\b\b\b\b\b\b\b\b\b\b\b\b\b\b\b\b\b\b\b\b\b\b                             \b\b\b\b\b\b\b\b\b\b\b\b\b\b\b\b\b\b\b\b\b\b\b\b\b\b\b\b\b 72% 1 - yoochoose-clicks.dat\b\b\b\b\b\b\b\b\b\b\b\b\b\b\b\b\b\b\b\b\b\b\b\b\b\b\b\b\b                             \b\b\b\b\b\b\b\b\b\b\b\b\b\b\b\b\b\b\b\b\b\b\b\b\b\b\b\b\b 73% 1 - yoochoose-clicks.dat\b\b\b\b\b\b\b\b\b\b\b\b\b\b\b\b\b\b\b\b\b\b\b\b\b\b\b\b\b                             \b\b\b\b\b\b\b\b\b\b\b\b\b\b\b\b\b\b\b\b\b\b\b\b\b\b\b\b\b 74% 1 - yoochoose-clicks.dat\b\b\b\b\b\b\b\b\b\b\b\b\b\b\b\b\b\b\b\b\b\b\b\b\b\b\b\b\b                             \b\b\b\b\b\b\b\b\b\b\b\b\b\b\b\b\b\b\b\b\b\b\b\b\b\b\b\b\b 75% 1 - yoochoose-clicks.dat\b\b\b\b\b\b\b\b\b\b\b\b\b\b\b\b\b\b\b\b\b\b\b\b\b\b\b\b\b                             \b\b\b\b\b\b\b\b\b\b\b\b\b\b\b\b\b\b\b\b\b\b\b\b\b\b\b\b\b 76% 1 - yoochoose-clicks.dat\b\b\b\b\b\b\b\b\b\b\b\b\b\b\b\b\b\b\b\b\b\b\b\b\b\b\b\b\b                             \b\b\b\b\b\b\b\b\b\b\b\b\b\b\b\b\b\b\b\b\b\b\b\b\b\b\b\b\b 77% 1 - yoochoose-clicks.dat\b\b\b\b\b\b\b\b\b\b\b\b\b\b\b\b\b\b\b\b\b\b\b\b\b\b\b\b\b                             \b\b\b\b\b\b\b\b\b\b\b\b\b\b\b\b\b\b\b\b\b\b\b\b\b\b\b\b\b 78% 1 - yoochoose-clicks.dat\b\b\b\b\b\b\b\b\b\b\b\b\b\b\b\b\b\b\b\b\b\b\b\b\b\b\b\b\b                             \b\b\b\b\b\b\b\b\b\b\b\b\b\b\b\b\b\b\b\b\b\b\b\b\b\b\b\b\b 79% 1 - yoochoose-clicks.dat\b\b\b\b\b\b\b\b\b\b\b\b\b\b\b\b\b\b\b\b\b\b\b\b\b\b\b\b\b                             \b\b\b\b\b\b\b\b\b\b\b\b\b\b\b\b\b\b\b\b\b\b\b\b\b\b\b\b\b 80% 1 - yoochoose-clicks.dat\b\b\b\b\b\b\b\b\b\b\b\b\b\b\b\b\b\b\b\b\b\b\b\b\b\b\b\b\b                             \b\b\b\b\b\b\b\b\b\b\b\b\b\b\b\b\b\b\b\b\b\b\b\b\b\b\b\b\b 81% 2 - yoochoose-test.dat\b\b\b\b\b\b\b\b\b\b\b\b\b\b\b\b\b\b\b\b\b\b\b\b\b\b\b                           \b\b\b\b\b\b\b\b\b\b\b\b\b\b\b\b\b\b\b\b\b\b\b\b\b\b\b 82% 2 - yoochoose-test.dat\b\b\b\b\b\b\b\b\b\b\b\b\b\b\b\b\b\b\b\b\b\b\b\b\b\b\b                           \b\b\b\b\b\b\b\b\b\b\b\b\b\b\b\b\b\b\b\b\b\b\b\b\b\b\b 83% 2 - yoochoose-test.dat\b\b\b\b\b\b\b\b\b\b\b\b\b\b\b\b\b\b\b\b\b\b\b\b\b\b\b                           \b\b\b\b\b\b\b\b\b\b\b\b\b\b\b\b\b\b\b\b\b\b\b\b\b\b\b 84% 2 - yoochoose-test.dat\b\b\b\b\b\b\b\b\b\b\b\b\b\b\b\b\b\b\b\b\b\b\b\b\b\b\b                           \b\b\b\b\b\b\b\b\b\b\b\b\b\b\b\b\b\b\b\b\b\b\b\b\b\b\b 85% 2 - yoochoose-test.dat\b\b\b\b\b\b\b\b\b\b\b\b\b\b\b\b\b\b\b\b\b\b\b\b\b\b\b                           \b\b\b\b\b\b\b\b\b\b\b\b\b\b\b\b\b\b\b\b\b\b\b\b\b\b\b 86% 2 - yoochoose-test.dat\b\b\b\b\b\b\b\b\b\b\b\b\b\b\b\b\b\b\b\b\b\b\b\b\b\b\b                           \b\b\b\b\b\b\b\b\b\b\b\b\b\b\b\b\b\b\b\b\b\b\b\b\b\b\b 87% 2 - yoochoose-test.dat\b\b\b\b\b\b\b\b\b\b\b\b\b\b\b\b\b\b\b\b\b\b\b\b\b\b\b                           \b\b\b\b\b\b\b\b\b\b\b\b\b\b\b\b\b\b\b\b\b\b\b\b\b\b\b 88% 2 - yoochoose-test.dat\b\b\b\b\b\b\b\b\b\b\b\b\b\b\b\b\b\b\b\b\b\b\b\b\b\b\b                           \b\b\b\b\b\b\b\b\b\b\b\b\b\b\b\b\b\b\b\b\b\b\b\b\b\b\b 89% 2 - yoochoose-test.dat\b\b\b\b\b\b\b\b\b\b\b\b\b\b\b\b\b\b\b\b\b\b\b\b\b\b\b                           \b\b\b\b\b\b\b\b\b\b\b\b\b\b\b\b\b\b\b\b\b\b\b\b\b\b\b 90% 2 - yoochoose-test.dat\b\b\b\b\b\b\b\b\b\b\b\b\b\b\b\b\b\b\b\b\b\b\b\b\b\b\b                           \b\b\b\b\b\b\b\b\b\b\b\b\b\b\b\b\b\b\b\b\b\b\b\b\b\b\b 91% 2 - yoochoose-test.dat\b\b\b\b\b\b\b\b\b\b\b\b\b\b\b\b\b\b\b\b\b\b\b\b\b\b\b                           \b\b\b\b\b\b\b\b\b\b\b\b\b\b\b\b\b\b\b\b\b\b\b\b\b\b\b 92% 2 - yoochoose-test.dat\b\b\b\b\b\b\b\b\b\b\b\b\b\b\b\b\b\b\b\b\b\b\b\b\b\b\b                           \b\b\b\b\b\b\b\b\b\b\b\b\b\b\b\b\b\b\b\b\b\b\b\b\b\b\b 93% 2 - yoochoose-test.dat\b\b\b\b\b\b\b\b\b\b\b\b\b\b\b\b\b\b\b\b\b\b\b\b\b\b\b                           \b\b\b\b\b\b\b\b\b\b\b\b\b\b\b\b\b\b\b\b\b\b\b\b\b\b\b 94% 2 - yoochoose-test.dat\b\b\b\b\b\b\b\b\b\b\b\b\b\b\b\b\b\b\b\b\b\b\b\b\b\b\b                           \b\b\b\b\b\b\b\b\b\b\b\b\b\b\b\b\b\b\b\b\b\b\b\b\b\b\b 95% 2 - yoochoose-test.dat\b\b\b\b\b\b\b\b\b\b\b\b\b\b\b\b\b\b\b\b\b\b\b\b\b\b\b                           \b\b\b\b\b\b\b\b\b\b\b\b\b\b\b\b\b\b\b\b\b\b\b\b\b\b\b 96% 2 - yoochoose-test.dat\b\b\b\b\b\b\b\b\b\b\b\b\b\b\b\b\b\b\b\b\b\b\b\b\b\b\b                           \b\b\b\b\b\b\b\b\b\b\b\b\b\b\b\b\b\b\b\b\b\b\b\b\b\b\b 97% 2 - yoochoose-test.dat\b\b\b\b\b\b\b\b\b\b\b\b\b\b\b\b\b\b\b\b\b\b\b\b\b\b\b                           \b\b\b\b\b\b\b\b\b\b\b\b\b\b\b\b\b\b\b\b\b\b\b\b\b\b\b 98% 2 - yoochoose-test.dat\b\b\b\b\b\b\b\b\b\b\b\b\b\b\b\b\b\b\b\b\b\b\b\b\b\b\b                           \b\b\b\b\b\b\b\b\b\b\b\b\b\b\b\b\b\b\b\b\b\b\b\b\b\b\b 99% 2 - yoochoose-test.dat\b\b\b\b\b\b\b\b\b\b\b\b\b\b\b\b\b\b\b\b\b\b\b\b\b\b\b                           \b\b\b\b\b\b\b\b\b\b\b\b\b\b\b\b\b\b\b\b\b\b\b\b\b\b\b 99% 3\b\b\b\b\b\b      \b\b\b\b\b\bEverything is Ok\n",
            "\n",
            "Files: 4\n",
            "Size:       1914111754\n",
            "Compressed: 287211932\n"
          ]
        }
      ]
    },
    {
      "cell_type": "markdown",
      "metadata": {
        "id": "pTdun0TtC0N0"
      },
      "source": [
        "# Preprocesar dataset"
      ]
    },
    {
      "cell_type": "code",
      "metadata": {
        "id": "dwIyZudmCvJF"
      },
      "source": [
        "import os\n",
        "import numpy as np\n",
        "import pandas as pd\n",
        "import datetime as dt\n",
        "from matplotlib import pyplot as plt\n",
        "os.environ['TF_CPP_MIN_LOG_LEVEL'] = '3'"
      ],
      "execution_count": 4,
      "outputs": []
    },
    {
      "cell_type": "code",
      "metadata": {
        "id": "IaBaKN-1DBLN"
      },
      "source": [
        "src_path = './rsc15/'\n",
        "dst_path = './data/'"
      ],
      "execution_count": 5,
      "outputs": []
    },
    {
      "cell_type": "code",
      "metadata": {
        "id": "N3xvj0aZDC0y"
      },
      "source": [
        "def process(src_path, dst_path):\n",
        "  data = pd.read_csv(src_path + 'yoochoose-clicks.dat', sep=',', header=None, usecols=[0,1,2], dtype={0:np.int32, 1:str, 2:np.int64})\n",
        "  data.columns = ['SessionId', 'TimeStr', 'ItemId']\n",
        "\n",
        "  # Add timestamp\n",
        "  data['Time'] = data.TimeStr.apply(lambda x: dt.datetime.strptime(x, '%Y-%m-%dT%H:%M:%S.%fZ').timestamp())\n",
        "  del(data['TimeStr'])\n",
        "\n",
        "  # Filter by session size > 1\n",
        "  session_lengths = data.groupby('SessionId').size()  \n",
        "  data = data[np.in1d(data.SessionId, session_lengths[session_lengths>1].index)]\n",
        "  \n",
        "  # Filter by \"known\" (appears >= 5) items\n",
        "  item_supports = data.groupby('ItemId').size()\n",
        "  data = data[np.in1d(data.ItemId, item_supports[item_supports>=5].index)]\n",
        "  \n",
        "  # Filter by session size > 2\n",
        "  session_lengths = data.groupby('SessionId').size()\n",
        "  data = data[np.in1d(data.SessionId, session_lengths[session_lengths>=2].index)]\n",
        "\n",
        "  # Test split is entire last day\n",
        "  tmax = data.Time.max()\n",
        "  session_max_times = data.groupby('SessionId').Time.max()\n",
        "  \n",
        "  session_train = session_max_times[session_max_times < tmax-86400].index\n",
        "  train = data[np.in1d(data.SessionId, session_train)]\n",
        "  \n",
        "  session_test = session_max_times[session_max_times >= tmax-86400].index\n",
        "  test = data[np.in1d(data.SessionId, session_test)]\n",
        "  test = test[np.in1d(test.ItemId, train.ItemId)]\n",
        "  tslength = test.groupby('SessionId').size()\n",
        "  test = test[np.in1d(test.SessionId, tslength[tslength>=2].index)]\n",
        "  print('Test set\\n\\tEvents: {}\\n\\tSessions: {}\\n\\tItems: {}'.format(len(test), test.SessionId.nunique(), test.ItemId.nunique()))\n",
        "  test.to_csv(dst_path + 'test.tsv', sep='\\t', index=False)\n",
        "\n",
        "  # Validation: second to last day. Train: remainder\n",
        "  tmax = train.Time.max()\n",
        "  session_max_times = train.groupby('SessionId').Time.max()\n",
        "  session_train = session_max_times[session_max_times < tmax-86400].index\n",
        "  session_valid = session_max_times[session_max_times >= tmax-86400].index\n",
        "\n",
        "  train_tr = train[np.in1d(train.SessionId, session_train)]\n",
        "  valid = train[np.in1d(train.SessionId, session_valid)]\n",
        "  valid = valid[np.in1d(valid.ItemId, train_tr.ItemId)]\n",
        "  tslength = valid.groupby('SessionId').size()\n",
        "  valid = valid[np.in1d(valid.SessionId, tslength[tslength>=2].index)]\n",
        "  print('Validation set\\n\\tEvents: {}\\n\\tSessions: {}\\n\\tItems: {}'.format(len(valid), valid.SessionId.nunique(), valid.ItemId.nunique()))\n",
        "  valid.to_csv(dst_path + 'validation.tsv', sep='\\t', index=False)\n",
        "  \n",
        "  \n",
        "  print('Train set\\n\\tEvents: {}\\n\\tSessions: {}\\n\\tItems: {}'.format(len(train_tr), train_tr.SessionId.nunique(), train_tr.ItemId.nunique()))\n",
        "  train_tr.to_csv(dst_path + 'train.tsv', sep='\\t', index=False)"
      ],
      "execution_count": 6,
      "outputs": []
    },
    {
      "cell_type": "code",
      "metadata": {
        "colab": {
          "base_uri": "https://localhost:8080/"
        },
        "id": "MB9nYxi9DGoX",
        "outputId": "2d8d2ea8-4785-432a-e89e-d24efc9049ce"
      },
      "source": [
        "process(src_path, dst_path)  "
      ],
      "execution_count": 7,
      "outputs": [
        {
          "output_type": "stream",
          "name": "stdout",
          "text": [
            "Test set\n",
            "\tEvents: 71222\n",
            "\tSessions: 15324\n",
            "\tItems: 6751\n",
            "Validation set\n",
            "\tEvents: 58233\n",
            "\tSessions: 12372\n",
            "\tItems: 6359\n",
            "Train set\n",
            "\tEvents: 31579006\n",
            "\tSessions: 7953885\n",
            "\tItems: 37483\n"
          ]
        }
      ]
    },
    {
      "cell_type": "code",
      "metadata": {
        "id": "uLkU_dTHDI5B"
      },
      "source": [
        "def train_fraction(df, fraction, prefix=\"train\", path=\"./data/\"):\n",
        "    \n",
        "    length = len(df['ItemId'])\n",
        "    first_session = df.iloc[length - length//fraction].SessionId\n",
        "    df = df.loc[df['SessionId'] >= first_session]\n",
        "    itemids = df['ItemId'].unique()\n",
        "    n_items = len(itemids)\n",
        "\n",
        "    print('Fractioned data set\\n\\tEvents: {}\\n\\tSessions: {}\\n\\tItems: {}'.format(len(df), df.SessionId.nunique(), df.ItemId.nunique()))\n",
        "    filename = path + '{}_{}.tsv'.format(prefix, fraction)\n",
        "    df.to_csv(filename, sep='\\t', index=False)\n",
        "    print(\"Saved as {}\".format(filename))"
      ],
      "execution_count": 8,
      "outputs": []
    },
    {
      "cell_type": "code",
      "metadata": {
        "colab": {
          "base_uri": "https://localhost:8080/"
        },
        "id": "ekSNkaVsDf59",
        "outputId": "03d1af05-e103-4f9b-a835-9f45dddd14ee"
      },
      "source": [
        "# Obtain most recent 1/nth fraction of train for demo purposes\n",
        "fraction = 64\n",
        "train = pd.read_csv(dst_path + 'train.tsv', sep='\\t', dtype={'ItemId':np.int64})\n",
        "train_fraction(train, fraction)"
      ],
      "execution_count": 9,
      "outputs": [
        {
          "output_type": "stream",
          "name": "stdout",
          "text": [
            "Fractioned data set\n",
            "\tEvents: 71391\n",
            "\tSessions: 17450\n",
            "\tItems: 8724\n",
            "Saved as ./data/train_64.tsv\n"
          ]
        }
      ]
    },
    {
      "cell_type": "markdown",
      "metadata": {
        "id": "k0Nnyoe4EITu"
      },
      "source": [
        "# Entrenamiento"
      ]
    },
    {
      "cell_type": "code",
      "metadata": {
        "colab": {
          "base_uri": "https://localhost:8080/"
        },
        "id": "ns5nL7N9DiPd",
        "outputId": "0c735aab-b035-48fe-a3df-c72416ce811e"
      },
      "source": [
        "!python src/model/gru4rec.py --epochs 200 --train-path ./data/train_64.tsv --dev-path ./data/validation.tsv --test-path ./data/test.tsv"
      ],
      "execution_count": 10,
      "outputs": [
        {
          "output_type": "stream",
          "name": "stdout",
          "text": [
            "/usr/local/lib/python3.7/dist-packages/keras/optimizer_v2/optimizer_v2.py:356: UserWarning: The `lr` argument is deprecated, use `learning_rate` instead.\n",
            "  \"The `lr` argument is deprecated, use `learning_rate` instead.\")\n",
            "Model: \"model\"\n",
            "_________________________________________________________________\n",
            "Layer (type)                 Output Shape              Param #   \n",
            "=================================================================\n",
            "input_1 (InputLayer)         [(512, 1, 8725)]          0         \n",
            "_________________________________________________________________\n",
            "GRU (GRU)                    [(512, 100), (512, 100)]  2648100   \n",
            "_________________________________________________________________\n",
            "dropout (Dropout)            (512, 100)                0         \n",
            "_________________________________________________________________\n",
            "dense (Dense)                (512, 8725)               881225    \n",
            "=================================================================\n",
            "Total params: 3,529,325\n",
            "Trainable params: 3,529,325\n",
            "Non-trainable params: 0\n",
            "_________________________________________________________________\n",
            "Epoch 1. Loss: 8.34809:  97% 16929/17451 [00:10<00:00, 1629.27it/s]\n",
            "Epoch 2. Loss: 7.89901:  97% 16929/17451 [00:06<00:00, 2675.40it/s]\n",
            "Epoch 3. Loss: 7.61420:  97% 16929/17451 [00:06<00:00, 2684.91it/s]\n",
            "Epoch 4. Loss: 7.39956:  97% 16929/17451 [00:06<00:00, 2691.20it/s]\n",
            "Epoch 5. Loss: 7.28507:  97% 16929/17451 [00:06<00:00, 2678.91it/s]\n",
            "Epoch 6. Loss: 7.17907:  97% 16929/17451 [00:06<00:00, 2693.01it/s]\n",
            "Epoch 7. Loss: 7.05037:  97% 16929/17451 [00:06<00:00, 2692.04it/s]\n",
            "Epoch 8. Loss: 6.92170:  97% 16929/17451 [00:06<00:00, 2694.20it/s]\n",
            "Epoch 9. Loss: 6.75343:  97% 16929/17451 [00:06<00:00, 2692.46it/s]\n",
            "Epoch 10. Loss: 6.55929:  97% 16929/17451 [00:06<00:00, 2667.98it/s]\n",
            "Epoch 11. Loss: 6.33559:  97% 16929/17451 [00:06<00:00, 2689.77it/s]\n",
            "Epoch 12. Loss: 6.13924:  97% 16929/17451 [00:06<00:00, 2694.13it/s]\n",
            "Epoch 13. Loss: 5.98164:  97% 16929/17451 [00:06<00:00, 2685.47it/s]\n",
            "Epoch 14. Loss: 5.79728:  97% 16929/17451 [00:06<00:00, 2689.36it/s]\n",
            "Epoch 15. Loss: 5.63993:  97% 16929/17451 [00:06<00:00, 2685.44it/s]\n",
            "Epoch 16. Loss: 5.47745:  97% 16929/17451 [00:06<00:00, 2677.34it/s]\n",
            "Epoch 17. Loss: 5.31256:  97% 16929/17451 [00:06<00:00, 2699.82it/s]\n",
            "Epoch 18. Loss: 5.17851:  97% 16929/17451 [00:06<00:00, 2687.45it/s]\n",
            "Epoch 19. Loss: 5.03571:  97% 16929/17451 [00:06<00:00, 2690.59it/s]\n",
            "Epoch 20. Loss: 4.90122:  97% 16929/17451 [00:06<00:00, 2675.14it/s]\n",
            "Epoch 21. Loss: 4.72425:  97% 16929/17451 [00:06<00:00, 2672.40it/s]\n",
            "Epoch 22. Loss: 4.62468:  97% 16929/17451 [00:06<00:00, 2693.73it/s]\n",
            "Epoch 23. Loss: 4.49569:  97% 16929/17451 [00:06<00:00, 2687.52it/s]\n",
            "Epoch 24. Loss: 4.38590:  97% 16929/17451 [00:06<00:00, 2685.04it/s]\n",
            "Epoch 25. Loss: 4.27533:  97% 16929/17451 [00:06<00:00, 2688.09it/s]\n",
            "Epoch 26. Loss: 4.14820:  97% 16929/17451 [00:06<00:00, 2678.22it/s]\n",
            "Epoch 27. Loss: 4.03440:  97% 16929/17451 [00:06<00:00, 2675.68it/s]\n",
            "Epoch 28. Loss: 3.94502:  97% 16929/17451 [00:06<00:00, 2684.60it/s]\n",
            "Epoch 29. Loss: 3.80413:  97% 16929/17451 [00:06<00:00, 2687.21it/s]\n",
            "Epoch 30. Loss: 3.73121:  97% 16929/17451 [00:06<00:00, 2687.46it/s]\n",
            "Epoch 31. Loss: 3.65301:  97% 16929/17451 [00:06<00:00, 2675.10it/s]\n",
            "Epoch 32. Loss: 3.54846:  97% 16929/17451 [00:06<00:00, 2683.06it/s]\n",
            "Epoch 33. Loss: 3.42864:  97% 16929/17451 [00:06<00:00, 2674.29it/s]\n",
            "Epoch 34. Loss: 3.34110:  97% 16929/17451 [00:06<00:00, 2682.54it/s]\n",
            "Epoch 35. Loss: 3.29785:  97% 16929/17451 [00:06<00:00, 2698.97it/s]\n",
            "Epoch 36. Loss: 3.18950:  97% 16929/17451 [00:06<00:00, 2694.48it/s]\n",
            "Epoch 37. Loss: 3.15828:  97% 16929/17451 [00:06<00:00, 2674.12it/s]\n",
            "Epoch 38. Loss: 3.05456:  97% 16929/17451 [00:06<00:00, 2695.23it/s]\n",
            "Epoch 39. Loss: 2.99735:  97% 16929/17451 [00:06<00:00, 2682.32it/s]\n",
            "Epoch 40. Loss: 2.93992:  97% 16929/17451 [00:06<00:00, 2688.05it/s]\n",
            "Epoch 41. Loss: 2.88880:  97% 16929/17451 [00:06<00:00, 2690.50it/s]\n",
            "Epoch 42. Loss: 2.84307:  97% 16929/17451 [00:06<00:00, 2672.47it/s]\n",
            "Epoch 43. Loss: 2.78540:  97% 16929/17451 [00:06<00:00, 2691.73it/s]\n",
            "Epoch 44. Loss: 2.75234:  97% 16929/17451 [00:06<00:00, 2689.50it/s]\n",
            "Epoch 45. Loss: 2.66473:  97% 16929/17451 [00:06<00:00, 2695.05it/s]\n",
            "Epoch 46. Loss: 2.61458:  97% 16929/17451 [00:06<00:00, 2679.84it/s]\n",
            "Epoch 47. Loss: 2.57620:  97% 16929/17451 [00:06<00:00, 2683.36it/s]\n",
            "Epoch 48. Loss: 2.51994:  97% 16929/17451 [00:06<00:00, 2692.29it/s]\n",
            "Epoch 49. Loss: 2.47633:  97% 16929/17451 [00:06<00:00, 2686.16it/s]\n",
            "Epoch 50. Loss: 2.45320:  97% 16929/17451 [00:06<00:00, 2690.84it/s]\n",
            "Epoch 51. Loss: 2.43048:  97% 16929/17451 [00:06<00:00, 2697.07it/s]\n",
            "Epoch 52. Loss: 2.45018:  97% 16929/17451 [00:06<00:00, 2669.73it/s]\n",
            "Epoch 53. Loss: 2.40601:  97% 16929/17451 [00:06<00:00, 2692.75it/s]\n",
            "Epoch 54. Loss: 2.36501:  97% 16929/17451 [00:06<00:00, 2697.25it/s]\n",
            "Epoch 55. Loss: 2.35682:  97% 16929/17451 [00:06<00:00, 2697.34it/s]\n",
            "Epoch 56. Loss: 2.32583:  97% 16929/17451 [00:06<00:00, 2697.97it/s]\n",
            "Epoch 57. Loss: 2.27572:  97% 16929/17451 [00:06<00:00, 2685.73it/s]\n",
            "Epoch 58. Loss: 2.32186:  97% 16929/17451 [00:06<00:00, 2680.77it/s]\n",
            "Epoch 59. Loss: 2.25809:  97% 16929/17451 [00:06<00:00, 2678.96it/s]\n",
            "Epoch 60. Loss: 2.29408:  97% 16929/17451 [00:06<00:00, 2699.21it/s]\n",
            "Epoch 61. Loss: 2.23652:  97% 16929/17451 [00:06<00:00, 2694.58it/s]\n",
            "Epoch 62. Loss: 2.20555:  97% 16929/17451 [00:06<00:00, 2711.01it/s]\n",
            "Epoch 63. Loss: 2.23274:  97% 16929/17451 [00:06<00:00, 2679.60it/s]\n",
            "Epoch 64. Loss: 2.19503:  97% 16929/17451 [00:06<00:00, 2703.11it/s]\n",
            "Epoch 65. Loss: 2.14882:  97% 16929/17451 [00:06<00:00, 2692.25it/s]\n",
            "Epoch 66. Loss: 2.19801:  97% 16929/17451 [00:06<00:00, 2704.71it/s]\n",
            "Epoch 67. Loss: 2.14603:  97% 16929/17451 [00:06<00:00, 2709.84it/s]\n",
            "Epoch 68. Loss: 2.12501:  97% 16929/17451 [00:06<00:00, 2691.22it/s]\n",
            "Epoch 69. Loss: 2.11160:  97% 16929/17451 [00:06<00:00, 2705.73it/s]\n",
            "Epoch 70. Loss: 2.10662:  97% 16929/17451 [00:06<00:00, 2713.23it/s]\n",
            "Epoch 71. Loss: 2.11515:  97% 16929/17451 [00:06<00:00, 2719.43it/s]\n",
            "Epoch 72. Loss: 2.02975:  97% 16929/17451 [00:06<00:00, 2715.84it/s]\n",
            "Epoch 73. Loss: 2.09281:  97% 16929/17451 [00:06<00:00, 2695.20it/s]\n",
            "Epoch 74. Loss: 2.06016:  97% 16929/17451 [00:06<00:00, 2720.63it/s]\n",
            "Epoch 75. Loss: 2.03976:  97% 16929/17451 [00:06<00:00, 2703.11it/s]\n",
            "Epoch 76. Loss: 2.09339:  97% 16929/17451 [00:06<00:00, 2727.17it/s]\n",
            "Epoch 77. Loss: 2.03909:  97% 16929/17451 [00:06<00:00, 2713.97it/s]\n",
            "Epoch 78. Loss: 2.03667:  97% 16929/17451 [00:06<00:00, 2696.33it/s]\n",
            "Epoch 79. Loss: 2.02572:  97% 16929/17451 [00:06<00:00, 2704.16it/s]\n",
            "Epoch 80. Loss: 1.95139:  97% 16929/17451 [00:06<00:00, 2714.35it/s]\n",
            "Epoch 81. Loss: 1.95582:  97% 16929/17451 [00:06<00:00, 2717.80it/s]\n",
            "Epoch 82. Loss: 2.00513:  97% 16929/17451 [00:06<00:00, 2694.25it/s]\n",
            "Epoch 83. Loss: 2.03582:  97% 16929/17451 [00:06<00:00, 2692.23it/s]\n",
            "Epoch 84. Loss: 1.97094:  97% 16929/17451 [00:06<00:00, 2693.31it/s]\n",
            "Epoch 85. Loss: 1.93817:  97% 16929/17451 [00:06<00:00, 2703.87it/s]\n",
            "Epoch 86. Loss: 1.96426:  97% 16929/17451 [00:06<00:00, 2702.52it/s]\n",
            "Epoch 87. Loss: 1.93265:  97% 16929/17451 [00:06<00:00, 2689.82it/s]\n",
            "Epoch 88. Loss: 1.93743:  97% 16929/17451 [00:06<00:00, 2682.42it/s]\n",
            "Epoch 89. Loss: 1.92447:  97% 16929/17451 [00:06<00:00, 2677.84it/s]\n",
            "Epoch 90. Loss: 1.99096:  97% 16929/17451 [00:06<00:00, 2681.25it/s]\n",
            "Epoch 91. Loss: 1.91345:  97% 16929/17451 [00:06<00:00, 2664.64it/s]\n",
            "Epoch 92. Loss: 1.87617:  97% 16929/17451 [00:06<00:00, 2678.78it/s]\n",
            "Epoch 93. Loss: 1.89466:  97% 16929/17451 [00:06<00:00, 2693.63it/s]\n",
            "Epoch 94. Loss: 1.85844:  97% 16929/17451 [00:06<00:00, 2684.52it/s]\n",
            "Epoch 95. Loss: 1.91370:  97% 16929/17451 [00:06<00:00, 2689.14it/s]\n",
            "Epoch 96. Loss: 1.89248:  97% 16929/17451 [00:06<00:00, 2674.77it/s]\n",
            "Epoch 97. Loss: 1.82942:  97% 16929/17451 [00:06<00:00, 2684.95it/s]\n",
            "Epoch 98. Loss: 1.87414:  97% 16929/17451 [00:06<00:00, 2696.25it/s]\n",
            "Epoch 99. Loss: 1.90881:  97% 16929/17451 [00:06<00:00, 2688.83it/s]\n",
            "Epoch 100. Loss: 1.84970:  97% 16929/17451 [00:06<00:00, 2675.01it/s]\n",
            "Epoch 101. Loss: 1.89529:  97% 16929/17451 [00:06<00:00, 2687.16it/s]\n",
            "Epoch 102. Loss: 1.83488:  97% 16929/17451 [00:06<00:00, 2690.66it/s]\n",
            "Epoch 103. Loss: 1.86259:  97% 16929/17451 [00:06<00:00, 2682.57it/s]\n",
            "Epoch 104. Loss: 1.86200:  97% 16929/17451 [00:06<00:00, 2674.95it/s]\n",
            "Epoch 105. Loss: 1.80250:  97% 16929/17451 [00:06<00:00, 2668.55it/s]\n",
            "Epoch 106. Loss: 1.86732:  97% 16929/17451 [00:06<00:00, 2686.78it/s]\n",
            "Epoch 107. Loss: 1.78616:  97% 16929/17451 [00:06<00:00, 2679.73it/s]\n",
            "Epoch 108. Loss: 1.82520:  97% 16929/17451 [00:06<00:00, 2689.03it/s]\n",
            "Epoch 109. Loss: 1.84902:  97% 16929/17451 [00:06<00:00, 2688.13it/s]\n",
            "Epoch 110. Loss: 1.83557:  97% 16929/17451 [00:06<00:00, 2674.11it/s]\n",
            "Epoch 111. Loss: 1.83050:  97% 16929/17451 [00:06<00:00, 2686.78it/s]\n",
            "Epoch 112. Loss: 1.81819:  97% 16929/17451 [00:06<00:00, 2693.04it/s]\n",
            "Epoch 113. Loss: 1.83876:  97% 16929/17451 [00:06<00:00, 2692.03it/s]\n",
            "Epoch 114. Loss: 1.80188:  97% 16929/17451 [00:06<00:00, 2697.37it/s]\n",
            "Epoch 115. Loss: 1.86169:  97% 16929/17451 [00:06<00:00, 2677.62it/s]\n",
            "Epoch 116. Loss: 1.81277:  97% 16929/17451 [00:06<00:00, 2675.18it/s]\n",
            "Epoch 117. Loss: 1.78060:  97% 16929/17451 [00:06<00:00, 2676.25it/s]\n",
            "Epoch 118. Loss: 1.76341:  97% 16929/17451 [00:06<00:00, 2653.40it/s]\n",
            "Epoch 119. Loss: 1.77134:  97% 16929/17451 [00:06<00:00, 2627.79it/s]\n",
            "Epoch 120. Loss: 1.78591:  97% 16929/17451 [00:06<00:00, 2656.10it/s]\n",
            "Epoch 121. Loss: 1.75174:  97% 16929/17451 [00:06<00:00, 2656.00it/s]\n",
            "Epoch 122. Loss: 1.71610:  97% 16929/17451 [00:06<00:00, 2666.28it/s]\n",
            "Epoch 123. Loss: 1.79124:  97% 16929/17451 [00:06<00:00, 2670.48it/s]\n",
            "Epoch 124. Loss: 1.77337:  97% 16929/17451 [00:06<00:00, 2693.53it/s]\n",
            "Epoch 125. Loss: 1.79557:  97% 16929/17451 [00:06<00:00, 2687.98it/s]\n",
            "Epoch 126. Loss: 1.75888:  97% 16929/17451 [00:06<00:00, 2661.70it/s]\n",
            "Epoch 127. Loss: 1.75046:  97% 16929/17451 [00:06<00:00, 2680.16it/s]\n",
            "Epoch 128. Loss: 1.74909:  97% 16929/17451 [00:06<00:00, 2685.67it/s]\n",
            "Epoch 129. Loss: 1.70532:  97% 16929/17451 [00:06<00:00, 2683.19it/s]\n",
            "Epoch 130. Loss: 1.69999:  97% 16929/17451 [00:06<00:00, 2695.96it/s]\n",
            "Epoch 131. Loss: 1.72522:  97% 16929/17451 [00:06<00:00, 2652.30it/s]\n",
            "Epoch 132. Loss: 1.71305:  97% 16929/17451 [00:06<00:00, 2660.00it/s]\n",
            "Epoch 133. Loss: 1.71645:  97% 16929/17451 [00:06<00:00, 2681.33it/s]\n",
            "Epoch 134. Loss: 1.72901:  97% 16929/17451 [00:06<00:00, 2675.02it/s]\n",
            "Epoch 135. Loss: 1.77009:  97% 16929/17451 [00:06<00:00, 2691.41it/s]\n",
            "Epoch 136. Loss: 1.77511:  97% 16929/17451 [00:06<00:00, 2674.85it/s]\n",
            "Epoch 137. Loss: 1.78437:  97% 16929/17451 [00:06<00:00, 2685.13it/s]\n",
            "Epoch 138. Loss: 1.66199:  97% 16929/17451 [00:06<00:00, 2698.13it/s]\n",
            "Epoch 139. Loss: 1.73523:  97% 16929/17451 [00:06<00:00, 2687.92it/s]\n",
            "Epoch 140. Loss: 1.72119:  97% 16929/17451 [00:06<00:00, 2683.59it/s]\n",
            "Epoch 141. Loss: 1.72630:  97% 16929/17451 [00:06<00:00, 2674.05it/s]\n",
            "Epoch 142. Loss: 1.69717:  97% 16929/17451 [00:06<00:00, 2674.43it/s]\n",
            "Epoch 143. Loss: 1.73109:  97% 16929/17451 [00:06<00:00, 2678.88it/s]\n",
            "Epoch 144. Loss: 1.74252:  97% 16929/17451 [00:06<00:00, 2692.44it/s]\n",
            "Epoch 145. Loss: 1.68767:  97% 16929/17451 [00:06<00:00, 2679.93it/s]\n",
            "Epoch 146. Loss: 1.66655:  97% 16929/17451 [00:06<00:00, 2690.40it/s]\n",
            "Epoch 147. Loss: 1.70928:  97% 16929/17451 [00:06<00:00, 2663.75it/s]\n",
            "Epoch 148. Loss: 1.70078:  97% 16929/17451 [00:06<00:00, 2698.25it/s]\n",
            "Epoch 149. Loss: 1.70877:  97% 16929/17451 [00:06<00:00, 2687.74it/s]\n",
            "Epoch 150. Loss: 1.68228:  97% 16929/17451 [00:06<00:00, 2698.33it/s]\n",
            "Epoch 151. Loss: 1.63058:  97% 16929/17451 [00:06<00:00, 2686.40it/s]\n",
            "Epoch 152. Loss: 1.64784:  97% 16929/17451 [00:06<00:00, 2647.55it/s]\n",
            "Epoch 153. Loss: 1.64233:  97% 16929/17451 [00:06<00:00, 2689.19it/s]\n",
            "Epoch 154. Loss: 1.67974:  97% 16929/17451 [00:06<00:00, 2684.18it/s]\n",
            "Epoch 155. Loss: 1.64049:  97% 16929/17451 [00:06<00:00, 2671.11it/s]\n",
            "Epoch 156. Loss: 1.63197:  97% 16929/17451 [00:06<00:00, 2697.07it/s]\n",
            "Epoch 157. Loss: 1.69863:  97% 16929/17451 [00:06<00:00, 2657.15it/s]\n",
            "Epoch 158. Loss: 1.70192:  97% 16929/17451 [00:06<00:00, 2683.85it/s]\n",
            "Epoch 159. Loss: 1.63825:  97% 16929/17451 [00:06<00:00, 2688.59it/s]\n",
            "Epoch 160. Loss: 1.70193:  97% 16929/17451 [00:06<00:00, 2688.56it/s]\n",
            "Epoch 161. Loss: 1.70925:  97% 16929/17451 [00:06<00:00, 2679.90it/s]\n",
            "Epoch 162. Loss: 1.62120:  97% 16929/17451 [00:06<00:00, 2674.78it/s]\n",
            "Epoch 163. Loss: 1.65941:  97% 16929/17451 [00:06<00:00, 2679.38it/s]\n",
            "Epoch 164. Loss: 1.72670:  97% 16929/17451 [00:06<00:00, 2679.85it/s]\n",
            "Epoch 165. Loss: 1.65654:  97% 16929/17451 [00:06<00:00, 2687.26it/s]\n",
            "Epoch 166. Loss: 1.67936:  97% 16929/17451 [00:06<00:00, 2704.10it/s]\n",
            "Epoch 167. Loss: 1.59916:  97% 16929/17451 [00:06<00:00, 2684.08it/s]\n",
            "Epoch 168. Loss: 1.65658:  97% 16929/17451 [00:06<00:00, 2664.04it/s]\n",
            "Epoch 169. Loss: 1.67519:  97% 16929/17451 [00:06<00:00, 2677.27it/s]\n",
            "Epoch 170. Loss: 1.56861:  97% 16929/17451 [00:06<00:00, 2673.22it/s]\n",
            "Epoch 171. Loss: 1.68846:  97% 16929/17451 [00:06<00:00, 2680.39it/s]\n",
            "Epoch 172. Loss: 1.65053:  97% 16929/17451 [00:06<00:00, 2685.08it/s]\n",
            "Epoch 173. Loss: 1.58246:  97% 16929/17451 [00:06<00:00, 2682.92it/s]\n",
            "Epoch 174. Loss: 1.61314:  97% 16929/17451 [00:06<00:00, 2679.73it/s]\n",
            "Epoch 175. Loss: 1.62628:  97% 16929/17451 [00:06<00:00, 2676.23it/s]\n",
            "Epoch 176. Loss: 1.62811:  97% 16929/17451 [00:06<00:00, 2689.37it/s]\n",
            "Epoch 177. Loss: 1.59310:  97% 16929/17451 [00:06<00:00, 2695.95it/s]\n",
            "Epoch 178. Loss: 1.62589:  97% 16929/17451 [00:06<00:00, 2657.25it/s]\n",
            "Epoch 179. Loss: 1.59954:  97% 16929/17451 [00:06<00:00, 2691.06it/s]\n",
            "Epoch 180. Loss: 1.65481:  97% 16929/17451 [00:06<00:00, 2660.86it/s]\n",
            "Epoch 181. Loss: 1.55181:  97% 16929/17451 [00:06<00:00, 2660.27it/s]\n",
            "Epoch 182. Loss: 1.59963:  97% 16929/17451 [00:06<00:00, 2681.82it/s]\n",
            "Epoch 183. Loss: 1.59994:  97% 16929/17451 [00:06<00:00, 2682.01it/s]\n",
            "Epoch 184. Loss: 1.58697:  97% 16929/17451 [00:06<00:00, 2686.69it/s]\n",
            "Epoch 185. Loss: 1.66184:  97% 16929/17451 [00:06<00:00, 2683.96it/s]\n",
            "Epoch 186. Loss: 1.59335:  97% 16929/17451 [00:06<00:00, 2699.37it/s]\n",
            "Epoch 187. Loss: 1.55929:  97% 16929/17451 [00:06<00:00, 2691.25it/s]\n",
            "Epoch 188. Loss: 1.60744:  97% 16929/17451 [00:06<00:00, 2692.59it/s]\n",
            "Epoch 189. Loss: 1.59960:  97% 16929/17451 [00:06<00:00, 2670.12it/s]\n",
            "Epoch 190. Loss: 1.60472:  97% 16929/17451 [00:06<00:00, 2697.61it/s]\n",
            "Epoch 191. Loss: 1.62073:  97% 16929/17451 [00:06<00:00, 2682.09it/s]\n",
            "Epoch 192. Loss: 1.62371:  97% 16929/17451 [00:06<00:00, 2685.51it/s]\n",
            "Epoch 193. Loss: 1.60489:  97% 16929/17451 [00:06<00:00, 2683.21it/s]\n",
            "Epoch 194. Loss: 1.60182:  97% 16929/17451 [00:06<00:00, 2673.17it/s]\n",
            "Epoch 195. Loss: 1.54917:  97% 16929/17451 [00:06<00:00, 2692.10it/s]\n",
            "Epoch 196. Loss: 1.53422:  97% 16929/17451 [00:06<00:00, 2686.26it/s]\n",
            "Epoch 197. Loss: 1.56294:  97% 16929/17451 [00:06<00:00, 2687.68it/s]\n",
            "Epoch 198. Loss: 1.64991:  97% 16929/17451 [00:06<00:00, 2688.36it/s]\n",
            "Epoch 199. Loss: 1.60634:  97% 16929/17451 [00:06<00:00, 2666.59it/s]\n",
            "Evaluating model...\n",
            "\t - Recall@20 epoch 200: 0.461914\n",
            "\t - MRR@20    epoch 200: 0.164316\n",
            "\n"
          ]
        }
      ]
    },
    {
      "cell_type": "markdown",
      "metadata": {
        "id": "qjLngYG6FxsI"
      },
      "source": [
        "# Aprovechando información implícita: Dwell Time\n",
        "\n",
        "Podemos utilizar el tiempo que cada item fue visitado por cada usuario para realizar mejores recomendaciones.\n",
        "\n",
        "El supuesto es: a mayor tiempo de permanencia (dwell time) en un item, más interesado está el usuario en dicho item.\n",
        "\n",
        "Se hará item boosting en el set de entrenamiento."
      ]
    },
    {
      "cell_type": "code",
      "metadata": {
        "id": "qb5hfKzsFuba"
      },
      "source": [
        "def preprocess_df(df):    \n",
        "    n_items = len(df['ItemId'].unique())\n",
        "    aux = list(df['ItemId'].unique())\n",
        "    itemids = np.array(aux)\n",
        "    itemidmap = pd.Series(data=np.arange(n_items), index=itemids)  # (id_item => (0, n_items))\n",
        "    \n",
        "    item_key = 'ItemId'\n",
        "    session_key = 'SessionId'\n",
        "    time_key = 'Time'\n",
        "    \n",
        "    data = pd.merge(df, pd.DataFrame({item_key:itemids, 'ItemIdx':itemidmap[itemids].values}), on=item_key, how='inner')\n",
        "    data.sort_values([session_key, time_key], inplace=True)\n",
        "\n",
        "    length = len(data['ItemId'])\n",
        "        \n",
        "    return data"
      ],
      "execution_count": 11,
      "outputs": []
    },
    {
      "cell_type": "code",
      "metadata": {
        "id": "3pr_XXzxGJ-3"
      },
      "source": [
        "def compute_dwell_time(df):\n",
        "    times_t = np.roll(df['Time'], -1) # Take time row\n",
        "    times_dt  = df['Time']            # Copy, then displace by one\n",
        "    diffs = np.subtract(times_t, times_dt) # Take pairwise difference\n",
        "    length = len(df['ItemId'])\n",
        "    \n",
        "    # cummulative offset start for each session\n",
        "    offset_sessions = np.zeros(df['SessionId'].nunique()+1, dtype=np.int32)\n",
        "    offset_sessions[1:] = df.groupby('SessionId').size().cumsum() \n",
        "    offset_sessions = offset_sessions - 1\n",
        "    offset_sessions = np.roll(offset_sessions, -1)\n",
        "    \n",
        "    np.put(diffs.values, offset_sessions, np.zeros((offset_sessions.shape)), mode='raise')\n",
        "\n",
        "    return diffs"
      ],
      "execution_count": 12,
      "outputs": []
    },
    {
      "cell_type": "code",
      "metadata": {
        "id": "oMt84z-kGMEX"
      },
      "source": [
        "def get_distribution(dts):\n",
        "    filtered = np.array(list(filter(lambda x: int(x) != 0, dts)))\n",
        "    pd_dts = pd.DataFrame(filtered)\n",
        "    pd_dts.boxplot(vert=False, showfliers=False)\n",
        "    plt.xlabel(\"Seconds\")\n",
        "    plt.yticks([])\n",
        "    plt.title(\"Dwell time distribution for RSC15 dataset\")\n",
        "    plt.show()\n",
        "    pd_dts.describe()"
      ],
      "execution_count": 13,
      "outputs": []
    },
    {
      "cell_type": "code",
      "metadata": {
        "id": "moptOCClGN1L"
      },
      "source": [
        "def join_dwell_reps(df, dt, threshold=2000):\n",
        "    # Calculate d_ti/threshold + 1 then add column to dataFrame\n",
        "    dt //= threshold\n",
        "    dt += 1   \n",
        "    df['DwellReps'] = pd.Series(dt.astype(np.int64), index=dt.index)"
      ],
      "execution_count": 14,
      "outputs": []
    },
    {
      "cell_type": "code",
      "metadata": {
        "id": "eXA9BRZ9GP-C"
      },
      "source": [
        "def augment(df):    \n",
        "    col_names = list(df.columns.values)[:3]\n",
        "    augmented = np.repeat(df.values, df['DwellReps'], axis=0) \n",
        "    augmented = pd.DataFrame(data=augmented[:,:3],\n",
        "                             columns=col_names)\n",
        "    dtype = {'SessionId': np.int64, \n",
        "             'ItemId': np.int64, \n",
        "             'Time': np.float32}\n",
        "    \n",
        "    for k, v in dtype.items():\n",
        "        augmented[k] = augmented[k].astype(v)                  \n",
        "    \n",
        "    return augmented"
      ],
      "execution_count": 15,
      "outputs": []
    },
    {
      "cell_type": "code",
      "metadata": {
        "id": "6G1uJW7NGR-_"
      },
      "source": [
        "new_df = preprocess_df(train)\n",
        "dts = compute_dwell_time(new_df)"
      ],
      "execution_count": 16,
      "outputs": []
    },
    {
      "cell_type": "code",
      "metadata": {
        "colab": {
          "base_uri": "https://localhost:8080/",
          "height": 295
        },
        "id": "jHg8aETmGUAA",
        "outputId": "7c3fe5ce-5a13-433c-de65-beab19e5f4bb"
      },
      "source": [
        "# Visualize\n",
        "get_distribution(dts)"
      ],
      "execution_count": 17,
      "outputs": [
        {
          "output_type": "display_data",
          "data": {
            "image/png": "[encoded data removed]",
            "text/plain": [
              "<Figure size 432x288 with 1 Axes>"
            ]
          },
          "metadata": {
            "needs_background": "light"
          }
        }
      ]
    },
    {
      "cell_type": "code",
      "metadata": {
        "id": "XaaeuPRPGmia"
      },
      "source": [
        "# threshold is a hyperparameter\n",
        "join_dwell_reps(new_df, dts, threshold=75)\n",
        "\n",
        "# augment the sessions copying each entry an additional (dwellReps[i]-1) times\n",
        "df_aug = augment(new_df)\n",
        "df_aug.to_csv(\"./data/augmented_train.csv\", index=False, sep='\\t')"
      ],
      "execution_count": 18,
      "outputs": []
    },
    {
      "cell_type": "code",
      "metadata": {
        "colab": {
          "base_uri": "https://localhost:8080/"
        },
        "id": "zMXbosdKG1ZC",
        "outputId": "b3872495-e3ba-4521-bd09-77b46bc7c136"
      },
      "source": [
        "# retrieve 1/n most recent fraction for demo purposes \n",
        "# (note it is a smaller fraction due to the inflation process)\n",
        "fraction = 64*7\n",
        "train_fraction(df_aug, fraction, prefix='aug_train')"
      ],
      "execution_count": 19,
      "outputs": [
        {
          "output_type": "stream",
          "name": "stdout",
          "text": [
            "Fractioned data set\n",
            "\tEvents: 151923\n",
            "\tSessions: 16351\n",
            "\tItems: 8484\n",
            "Saved as ./data/aug_train_448.tsv\n"
          ]
        }
      ]
    },
    {
      "cell_type": "code",
      "metadata": {
        "colab": {
          "base_uri": "https://localhost:8080/"
        },
        "id": "H98rrDKdG-kD",
        "outputId": "84b5bb9f-1a6b-4a42-f9c3-3d5998fd1354"
      },
      "source": [
        "!python src/model/gru4rec.py --epochs 200 --train-path ./data/aug_train_448.tsv --dev-path ./data/validation.tsv --test-path ./data/test.tsv"
      ],
      "execution_count": 20,
      "outputs": [
        {
          "output_type": "stream",
          "name": "stdout",
          "text": [
            "/usr/local/lib/python3.7/dist-packages/keras/optimizer_v2/optimizer_v2.py:356: UserWarning: The `lr` argument is deprecated, use `learning_rate` instead.\n",
            "  \"The `lr` argument is deprecated, use `learning_rate` instead.\")\n",
            "Model: \"model\"\n",
            "_________________________________________________________________\n",
            "Layer (type)                 Output Shape              Param #   \n",
            "=================================================================\n",
            "input_1 (InputLayer)         [(512, 1, 8485)]          0         \n",
            "_________________________________________________________________\n",
            "GRU (GRU)                    [(512, 100), (512, 100)]  2576100   \n",
            "_________________________________________________________________\n",
            "dropout (Dropout)            (512, 100)                0         \n",
            "_________________________________________________________________\n",
            "dense (Dense)                (512, 8485)               856985    \n",
            "=================================================================\n",
            "Total params: 3,433,085\n",
            "Trainable params: 3,433,085\n",
            "Non-trainable params: 0\n",
            "_________________________________________________________________\n",
            "Epoch 1. Loss: 7.69319:  97% 15835/16352 [00:16<00:00, 931.76it/s] \n",
            "Epoch 2. Loss: 6.95504:  97% 15835/16352 [00:15<00:00, 1030.70it/s]\n",
            "Epoch 3. Loss: 6.18676:  97% 15835/16352 [00:15<00:00, 1034.53it/s]\n",
            "Epoch 4. Loss: 5.36223:  97% 15835/16352 [00:15<00:00, 1040.79it/s]\n",
            "Epoch 5. Loss: 4.72825:  97% 15835/16352 [00:15<00:00, 1039.20it/s]\n",
            "Epoch 6. Loss: 4.20770:  97% 15835/16352 [00:15<00:00, 1036.48it/s]\n",
            "Epoch 7. Loss: 3.75311:  97% 15835/16352 [00:15<00:00, 1038.99it/s]\n",
            "Epoch 8. Loss: 3.40694:  97% 15835/16352 [00:15<00:00, 1031.85it/s]\n",
            "Epoch 9. Loss: 3.19939:  97% 15835/16352 [00:15<00:00, 1041.28it/s]\n",
            "Epoch 10. Loss: 2.96098:  97% 15835/16352 [00:15<00:00, 1032.06it/s]\n",
            "Epoch 11. Loss: 2.78594:  97% 15835/16352 [00:15<00:00, 1038.27it/s]\n",
            "Epoch 12. Loss: 2.63491:  97% 15835/16352 [00:15<00:00, 1038.06it/s]\n",
            "Epoch 13. Loss: 2.46104:  97% 15835/16352 [00:15<00:00, 1041.38it/s]\n",
            "Epoch 14. Loss: 2.37331:  97% 15835/16352 [00:15<00:00, 1034.53it/s]\n",
            "Epoch 15. Loss: 2.27495:  97% 15835/16352 [00:15<00:00, 1041.48it/s]\n",
            "Epoch 16. Loss: 2.19563:  97% 15835/16352 [00:15<00:00, 1037.98it/s]\n",
            "Epoch 17. Loss: 2.06477:  97% 15835/16352 [00:15<00:00, 1037.96it/s]\n",
            "Epoch 18. Loss: 1.98105:  97% 15835/16352 [00:15<00:00, 1036.03it/s]\n",
            "Epoch 19. Loss: 1.94184:  97% 15835/16352 [00:15<00:00, 1039.27it/s]\n",
            "Epoch 20. Loss: 1.86620:  97% 15835/16352 [00:15<00:00, 1041.70it/s]\n",
            "Epoch 21. Loss: 1.84862:  97% 15835/16352 [00:15<00:00, 1037.99it/s]\n",
            "Epoch 22. Loss: 1.77303:  97% 15835/16352 [00:15<00:00, 1038.32it/s]\n",
            "Epoch 23. Loss: 1.74482:  97% 15835/16352 [00:15<00:00, 1037.60it/s]\n",
            "Epoch 24. Loss: 1.72308:  97% 15835/16352 [00:15<00:00, 1041.21it/s]\n",
            "Epoch 25. Loss: 1.70531:  97% 15835/16352 [00:15<00:00, 1036.08it/s]\n",
            "Epoch 26. Loss: 1.66621:  97% 15835/16352 [00:15<00:00, 1041.60it/s]\n",
            "Epoch 27. Loss: 1.59713:  97% 15835/16352 [00:15<00:00, 1039.23it/s]\n",
            "Epoch 28. Loss: 1.60509:  97% 15835/16352 [00:15<00:00, 1037.50it/s]\n",
            "Epoch 29. Loss: 1.53613:  97% 15835/16352 [00:15<00:00, 1038.16it/s]\n",
            "Epoch 30. Loss: 1.50843:  97% 15835/16352 [00:15<00:00, 1039.00it/s]\n",
            "Epoch 31. Loss: 1.47663:  97% 15835/16352 [00:15<00:00, 1037.07it/s]\n",
            "Epoch 32. Loss: 1.46749:  97% 15835/16352 [00:15<00:00, 1037.06it/s]\n",
            "Epoch 33. Loss: 1.43315:  97% 15835/16352 [00:15<00:00, 1039.50it/s]\n",
            "Epoch 34. Loss: 1.42842:  97% 15835/16352 [00:15<00:00, 1031.77it/s]\n",
            "Epoch 35. Loss: 1.42671:  97% 15835/16352 [00:15<00:00, 1042.10it/s]\n",
            "Epoch 36. Loss: 1.34982:  97% 15835/16352 [00:15<00:00, 1038.88it/s]\n",
            "Epoch 37. Loss: 1.38847:  97% 15835/16352 [00:15<00:00, 1041.38it/s]\n",
            "Epoch 38. Loss: 1.36830:  97% 15835/16352 [00:15<00:00, 1036.55it/s]\n",
            "Epoch 39. Loss: 1.39017:  97% 15835/16352 [00:15<00:00, 1039.97it/s]\n",
            "Epoch 40. Loss: 1.35034:  97% 15835/16352 [00:15<00:00, 1040.22it/s]\n",
            "Epoch 41. Loss: 1.34275:  97% 15835/16352 [00:15<00:00, 1043.88it/s]\n",
            "Epoch 42. Loss: 1.33591:  97% 15835/16352 [00:15<00:00, 1036.80it/s]\n",
            "Epoch 43. Loss: 1.32790:  97% 15835/16352 [00:15<00:00, 1040.20it/s]\n",
            "Epoch 44. Loss: 1.29705:  97% 15835/16352 [00:15<00:00, 1037.49it/s]\n",
            "Epoch 45. Loss: 1.31258:  97% 15835/16352 [00:15<00:00, 1037.84it/s]\n",
            "Epoch 46. Loss: 1.28209:  97% 15835/16352 [00:15<00:00, 1040.08it/s]\n",
            "Epoch 47. Loss: 1.29761:  97% 15835/16352 [00:15<00:00, 1036.01it/s]\n",
            "Epoch 48. Loss: 1.30200:  97% 15835/16352 [00:15<00:00, 1044.80it/s]\n",
            "Epoch 49. Loss: 1.26620:  97% 15835/16352 [00:15<00:00, 1035.22it/s]\n",
            "Epoch 50. Loss: 1.24053:  97% 15835/16352 [00:15<00:00, 1040.26it/s]\n",
            "Epoch 51. Loss: 1.26267:  97% 15835/16352 [00:15<00:00, 1029.71it/s]\n",
            "Epoch 52. Loss: 1.24244:  97% 15835/16352 [00:15<00:00, 1039.55it/s]\n",
            "Epoch 53. Loss: 1.27356:  97% 15835/16352 [00:15<00:00, 1038.35it/s]\n",
            "Epoch 54. Loss: 1.22333:  97% 15835/16352 [00:15<00:00, 1037.25it/s]\n",
            "Epoch 55. Loss: 1.21966:  97% 15835/16352 [00:15<00:00, 1037.01it/s]\n",
            "Epoch 56. Loss: 1.20280:  97% 15835/16352 [00:15<00:00, 1039.29it/s]\n",
            "Epoch 57. Loss: 1.22180:  97% 15835/16352 [00:15<00:00, 1038.53it/s]\n",
            "Epoch 58. Loss: 1.17048:  97% 15835/16352 [00:15<00:00, 1037.69it/s]\n",
            "Epoch 59. Loss: 1.21526:  97% 15835/16352 [00:15<00:00, 1039.07it/s]\n",
            "Epoch 60. Loss: 1.17030:  97% 15835/16352 [00:15<00:00, 1035.10it/s]\n",
            "Epoch 61. Loss: 1.16173:  97% 15835/16352 [00:15<00:00, 1039.21it/s]\n",
            "Epoch 62. Loss: 1.20314:  97% 15835/16352 [00:15<00:00, 1033.53it/s]\n",
            "Epoch 63. Loss: 1.22709:  97% 15835/16352 [00:15<00:00, 1040.98it/s]\n",
            "Epoch 64. Loss: 1.16513:  97% 15835/16352 [00:15<00:00, 1039.14it/s]\n",
            "Epoch 65. Loss: 1.21587:  97% 15835/16352 [00:15<00:00, 1036.44it/s]\n",
            "Epoch 66. Loss: 1.20297:  97% 15835/16352 [00:15<00:00, 1038.47it/s]\n",
            "Epoch 67. Loss: 1.14512:  97% 15835/16352 [00:15<00:00, 1040.97it/s]\n",
            "Epoch 68. Loss: 1.15563:  97% 15835/16352 [00:15<00:00, 1036.89it/s]\n",
            "Epoch 69. Loss: 1.14301:  97% 15835/16352 [00:15<00:00, 1039.53it/s]\n",
            "Epoch 70. Loss: 1.13928:  97% 15835/16352 [00:15<00:00, 1035.45it/s]\n",
            "Epoch 71. Loss: 1.13622:  97% 15835/16352 [00:15<00:00, 1034.60it/s]\n",
            "Epoch 72. Loss: 1.12866:  97% 15835/16352 [00:15<00:00, 1038.39it/s]\n",
            "Epoch 73. Loss: 1.12127:  97% 15835/16352 [00:15<00:00, 1036.42it/s]\n",
            "Epoch 74. Loss: 1.12622:  97% 15835/16352 [00:15<00:00, 1041.96it/s]\n",
            "Epoch 75. Loss: 1.12180:  97% 15835/16352 [00:15<00:00, 1031.66it/s]\n",
            "Epoch 76. Loss: 1.09250:  97% 15835/16352 [00:15<00:00, 1037.23it/s]\n",
            "Epoch 77. Loss: 1.12629:  97% 15835/16352 [00:15<00:00, 1039.46it/s]\n",
            "Epoch 78. Loss: 1.08937:  97% 15835/16352 [00:15<00:00, 1041.97it/s]\n",
            "Epoch 79. Loss: 1.11521:  97% 15835/16352 [00:15<00:00, 1039.93it/s]\n",
            "Epoch 80. Loss: 1.10063:  97% 15835/16352 [00:15<00:00, 1040.27it/s]\n",
            "Epoch 81. Loss: 1.07558:  97% 15835/16352 [00:15<00:00, 1034.32it/s]\n",
            "Epoch 82. Loss: 1.05313:  97% 15835/16352 [00:15<00:00, 1043.62it/s]\n",
            "Epoch 83. Loss: 1.10400:  97% 15835/16352 [00:15<00:00, 1041.99it/s]\n",
            "Epoch 84. Loss: 1.06300:  97% 15835/16352 [00:15<00:00, 1034.26it/s]\n",
            "Epoch 85. Loss: 1.06969:  97% 15835/16352 [00:15<00:00, 1039.23it/s]\n",
            "Epoch 86. Loss: 1.05116:  97% 15835/16352 [00:15<00:00, 1035.72it/s]\n",
            "Epoch 87. Loss: 1.06934:  97% 15835/16352 [00:15<00:00, 1044.97it/s]\n",
            "Epoch 88. Loss: 1.03837:  97% 15835/16352 [00:15<00:00, 1038.53it/s]\n",
            "Epoch 89. Loss: 1.09950:  97% 15835/16352 [00:15<00:00, 1041.65it/s]\n",
            "Epoch 90. Loss: 1.05847:  97% 15835/16352 [00:15<00:00, 1038.83it/s]\n",
            "Epoch 91. Loss: 1.05847:  97% 15835/16352 [00:15<00:00, 1044.42it/s]\n",
            "Epoch 92. Loss: 1.03404:  97% 15835/16352 [00:15<00:00, 1034.70it/s]\n",
            "Epoch 93. Loss: 1.01712:  97% 15835/16352 [00:15<00:00, 1043.22it/s]\n",
            "Epoch 94. Loss: 1.03977:  97% 15835/16352 [00:15<00:00, 1039.16it/s]\n",
            "Epoch 95. Loss: 1.03729:  97% 15835/16352 [00:15<00:00, 1039.91it/s]\n",
            "Epoch 96. Loss: 1.04334:  97% 15835/16352 [00:15<00:00, 1041.16it/s]\n",
            "Epoch 97. Loss: 1.03366:  97% 15835/16352 [00:15<00:00, 1039.18it/s]\n",
            "Epoch 98. Loss: 1.02455:  97% 15835/16352 [00:15<00:00, 1040.57it/s]\n",
            "Epoch 99. Loss: 0.98214:  97% 15835/16352 [00:15<00:00, 1038.89it/s]\n",
            "Epoch 100. Loss: 1.02299:  97% 15835/16352 [00:15<00:00, 1045.67it/s]\n",
            "Epoch 101. Loss: 1.00480:  97% 15835/16352 [00:15<00:00, 1034.82it/s]\n",
            "Epoch 102. Loss: 1.02496:  97% 15835/16352 [00:15<00:00, 1042.41it/s]\n",
            "Epoch 103. Loss: 0.99586:  97% 15835/16352 [00:15<00:00, 1041.57it/s]\n",
            "Epoch 104. Loss: 1.05063:  97% 15835/16352 [00:15<00:00, 1045.47it/s]\n",
            "Epoch 105. Loss: 1.01139:  97% 15835/16352 [00:15<00:00, 1040.47it/s]\n",
            "Epoch 106. Loss: 1.05068:  97% 15835/16352 [00:15<00:00, 1043.25it/s]\n",
            "Epoch 107. Loss: 1.00921:  97% 15835/16352 [00:15<00:00, 1040.41it/s]\n",
            "Epoch 108. Loss: 1.04180:  97% 15835/16352 [00:15<00:00, 1042.54it/s]\n",
            "Epoch 109. Loss: 1.01171:  97% 15835/16352 [00:15<00:00, 1043.32it/s]\n",
            "Epoch 110. Loss: 1.04440:  97% 15835/16352 [00:15<00:00, 1044.71it/s]\n",
            "Epoch 111. Loss: 1.02685:  97% 15835/16352 [00:15<00:00, 1048.32it/s]\n",
            "Epoch 112. Loss: 0.99568:  97% 15835/16352 [00:15<00:00, 1041.36it/s]\n",
            "Epoch 113. Loss: 0.99898:  97% 15835/16352 [00:15<00:00, 1039.66it/s]\n",
            "Epoch 114. Loss: 0.99978:  97% 15835/16352 [00:15<00:00, 1043.43it/s]\n",
            "Epoch 115. Loss: 0.94699:  97% 15835/16352 [00:15<00:00, 1042.23it/s]\n",
            "Epoch 116. Loss: 0.99803:  97% 15835/16352 [00:15<00:00, 1040.73it/s]\n",
            "Epoch 117. Loss: 1.00474:  97% 15835/16352 [00:15<00:00, 1039.57it/s]\n",
            "Epoch 118. Loss: 0.97407:  97% 15835/16352 [00:15<00:00, 1037.27it/s]\n",
            "Epoch 119. Loss: 0.99200:  97% 15835/16352 [00:15<00:00, 1042.37it/s]\n",
            "Epoch 120. Loss: 1.00714:  97% 15835/16352 [00:15<00:00, 1040.87it/s]\n",
            "Epoch 121. Loss: 0.96052:  97% 15835/16352 [00:15<00:00, 1041.42it/s]\n",
            "Epoch 122. Loss: 0.97456:  97% 15835/16352 [00:15<00:00, 1043.17it/s]\n",
            "Epoch 123. Loss: 1.00234:  97% 15835/16352 [00:15<00:00, 1037.86it/s]\n",
            "Epoch 124. Loss: 0.99607:  97% 15835/16352 [00:15<00:00, 1045.89it/s]\n",
            "Epoch 125. Loss: 0.99913:  97% 15835/16352 [00:15<00:00, 1038.15it/s]\n",
            "Epoch 126. Loss: 0.98754:  97% 15835/16352 [00:15<00:00, 1041.65it/s]\n",
            "Epoch 127. Loss: 0.95550:  97% 15835/16352 [00:15<00:00, 1042.42it/s]\n",
            "Epoch 128. Loss: 0.96544:  97% 15835/16352 [00:15<00:00, 1044.93it/s]\n",
            "Epoch 129. Loss: 0.98629:  97% 15835/16352 [00:15<00:00, 1036.28it/s]\n",
            "Epoch 130. Loss: 0.98423:  97% 15835/16352 [00:15<00:00, 1044.51it/s]\n",
            "Epoch 131. Loss: 0.97275:  97% 15835/16352 [00:15<00:00, 1042.39it/s]\n",
            "Epoch 132. Loss: 1.00908:  97% 15835/16352 [00:15<00:00, 1039.49it/s]\n",
            "Epoch 133. Loss: 1.00877:  97% 15835/16352 [00:15<00:00, 1033.36it/s]\n",
            "Epoch 134. Loss: 0.99250:  97% 15835/16352 [00:15<00:00, 1037.75it/s]\n",
            "Epoch 135. Loss: 0.94609:  97% 15835/16352 [00:15<00:00, 1039.40it/s]\n",
            "Epoch 136. Loss: 0.95961:  97% 15835/16352 [00:15<00:00, 1037.76it/s]\n",
            "Epoch 137. Loss: 0.96561:  97% 15835/16352 [00:15<00:00, 1040.06it/s]\n",
            "Epoch 138. Loss: 0.92325:  97% 15835/16352 [00:15<00:00, 1038.12it/s]\n",
            "Epoch 139. Loss: 0.97025:  97% 15835/16352 [00:15<00:00, 1041.00it/s]\n",
            "Epoch 140. Loss: 1.00277:  97% 15835/16352 [00:15<00:00, 1036.28it/s]\n",
            "Epoch 141. Loss: 0.99516:  97% 15835/16352 [00:15<00:00, 1041.63it/s]\n",
            "Epoch 142. Loss: 0.94209:  97% 15835/16352 [00:15<00:00, 1035.28it/s]\n",
            "Epoch 143. Loss: 0.99140:  97% 15835/16352 [00:15<00:00, 1041.86it/s]\n",
            "Epoch 144. Loss: 0.96272:  97% 15835/16352 [00:15<00:00, 1040.31it/s]\n",
            "Epoch 145. Loss: 1.00286:  97% 15835/16352 [00:15<00:00, 1038.57it/s]\n",
            "Epoch 146. Loss: 0.97574:  97% 15835/16352 [00:15<00:00, 1038.31it/s]\n",
            "Epoch 147. Loss: 0.93908:  97% 15835/16352 [00:15<00:00, 1041.25it/s]\n",
            "Epoch 148. Loss: 0.96161:  97% 15835/16352 [00:15<00:00, 1044.07it/s]\n",
            "Epoch 149. Loss: 0.96699:  97% 15835/16352 [00:15<00:00, 1039.69it/s]\n",
            "Epoch 150. Loss: 0.95745:  97% 15835/16352 [00:15<00:00, 1041.18it/s]\n",
            "Epoch 151. Loss: 0.90702:  97% 15835/16352 [00:15<00:00, 1040.68it/s]\n",
            "Epoch 152. Loss: 0.93383:  97% 15835/16352 [00:15<00:00, 1045.35it/s]\n",
            "Epoch 153. Loss: 0.92801:  97% 15835/16352 [00:15<00:00, 1038.64it/s]\n",
            "Epoch 154. Loss: 0.97087:  97% 15835/16352 [00:15<00:00, 1050.40it/s]\n",
            "Epoch 155. Loss: 0.95740:  97% 15835/16352 [00:15<00:00, 1046.63it/s]\n",
            "Epoch 156. Loss: 0.97228:  97% 15835/16352 [00:15<00:00, 1050.51it/s]\n",
            "Epoch 157. Loss: 1.01574:  97% 15835/16352 [00:15<00:00, 1040.51it/s]\n",
            "Epoch 158. Loss: 0.94754:  97% 15835/16352 [00:15<00:00, 1048.17it/s]\n",
            "Epoch 159. Loss: 0.95410:  97% 15835/16352 [00:15<00:00, 1043.66it/s]\n",
            "Epoch 160. Loss: 0.97366:  97% 15835/16352 [00:15<00:00, 1039.59it/s]\n",
            "Epoch 161. Loss: 0.94969:  97% 15835/16352 [00:15<00:00, 1039.95it/s]\n",
            "Epoch 162. Loss: 0.99416:  97% 15835/16352 [00:15<00:00, 1041.45it/s]\n",
            "Epoch 163. Loss: 0.93711:  97% 15835/16352 [00:15<00:00, 1042.48it/s]\n",
            "Epoch 164. Loss: 0.93307:  97% 15835/16352 [00:15<00:00, 1039.07it/s]\n",
            "Epoch 165. Loss: 0.93527:  97% 15835/16352 [00:15<00:00, 1041.58it/s]\n",
            "Epoch 166. Loss: 0.94789:  97% 15835/16352 [00:15<00:00, 1036.85it/s]\n",
            "Epoch 167. Loss: 0.98684:  97% 15835/16352 [00:15<00:00, 1043.90it/s]\n",
            "Epoch 168. Loss: 0.91715:  97% 15835/16352 [00:15<00:00, 1040.74it/s]\n",
            "Epoch 169. Loss: 0.95215:  97% 15835/16352 [00:15<00:00, 1042.68it/s]\n",
            "Epoch 170. Loss: 0.96085:  97% 15835/16352 [00:15<00:00, 1040.18it/s]\n",
            "Epoch 171. Loss: 0.99287:  97% 15835/16352 [00:15<00:00, 1042.87it/s]\n",
            "Epoch 172. Loss: 0.96634:  97% 15835/16352 [00:15<00:00, 1044.91it/s]\n",
            "Epoch 173. Loss: 0.93859:  97% 15835/16352 [00:15<00:00, 1038.13it/s]\n",
            "Epoch 174. Loss: 0.96226:  97% 15835/16352 [00:15<00:00, 1038.90it/s]\n",
            "Epoch 175. Loss: 0.95488:  97% 15835/16352 [00:15<00:00, 1037.30it/s]\n",
            "Epoch 176. Loss: 0.96850:  97% 15835/16352 [00:15<00:00, 1043.64it/s]\n",
            "Epoch 177. Loss: 0.98742:  97% 15835/16352 [00:15<00:00, 1037.91it/s]\n",
            "Epoch 178. Loss: 0.94442:  97% 15835/16352 [00:15<00:00, 1051.71it/s]\n",
            "Epoch 179. Loss: 0.91558:  97% 15835/16352 [00:15<00:00, 1049.04it/s]\n",
            "Epoch 180. Loss: 0.94629:  97% 15835/16352 [00:15<00:00, 1048.24it/s]\n",
            "Epoch 181. Loss: 0.94793:  97% 15835/16352 [00:15<00:00, 1045.55it/s]\n",
            "Epoch 182. Loss: 0.98617:  97% 15835/16352 [00:15<00:00, 1041.32it/s]\n",
            "Epoch 183. Loss: 0.94033:  97% 15835/16352 [00:15<00:00, 1045.15it/s]\n",
            "Epoch 184. Loss: 0.95961:  97% 15835/16352 [00:15<00:00, 1045.25it/s]\n",
            "Epoch 185. Loss: 0.91703:  97% 15835/16352 [00:15<00:00, 1046.45it/s]\n",
            "Epoch 186. Loss: 0.96015:  97% 15835/16352 [00:15<00:00, 1040.57it/s]\n",
            "Epoch 187. Loss: 0.93242:  97% 15835/16352 [00:15<00:00, 1042.96it/s]\n",
            "Epoch 188. Loss: 0.95226:  97% 15835/16352 [00:15<00:00, 1043.62it/s]\n",
            "Epoch 189. Loss: 0.98697:  97% 15835/16352 [00:15<00:00, 1043.71it/s]\n",
            "Epoch 190. Loss: 0.93971:  97% 15835/16352 [00:15<00:00, 1042.30it/s]\n",
            "Epoch 191. Loss: 0.98019:  97% 15835/16352 [00:15<00:00, 1047.00it/s]\n",
            "Epoch 192. Loss: 1.01806:  97% 15835/16352 [00:15<00:00, 1040.74it/s]\n",
            "Epoch 193. Loss: 0.97091:  97% 15835/16352 [00:15<00:00, 1044.67it/s]\n",
            "Epoch 194. Loss: 0.93813:  97% 15835/16352 [00:15<00:00, 1032.92it/s]\n",
            "Epoch 195. Loss: 0.88870:  97% 15835/16352 [00:15<00:00, 1045.28it/s]\n",
            "Epoch 196. Loss: 0.93288:  97% 15835/16352 [00:15<00:00, 1041.95it/s]\n",
            "Epoch 197. Loss: 0.92885:  97% 15835/16352 [00:15<00:00, 1041.80it/s]\n",
            "Epoch 198. Loss: 0.91713:  97% 15835/16352 [00:15<00:00, 1044.94it/s]\n",
            "Epoch 199. Loss: 0.92962:  97% 15835/16352 [00:15<00:00, 1041.67it/s]\n",
            "Evaluating model...\n",
            "\t - Recall@20 epoch 200: 0.510124\n",
            "\t - MRR@20    epoch 200: 0.208198\n",
            "\n"
          ]
        }
      ]
    },
    {
      "cell_type": "markdown",
      "metadata": {
        "id": "ydZ4x05BdkcS"
      },
      "source": [
        "Indique el resultado del modelo con Dwell Time.\n",
        "\n",
        "- Recall@20 epoch 200: 0.510124\n",
        "- MRR@20    epoch 200: 0.208198"
      ]
    }
  ]
}