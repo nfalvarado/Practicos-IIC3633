{
  "nbformat": 4,
  "nbformat_minor": 0,
  "metadata": {
    "colab": {
      "name": "pyRecLab_SlopeOne",
      "provenance": []
    },
    "kernelspec": {
      "name": "python3",
      "display_name": "Python 3"
    },
    "language_info": {
      "name": "python"
    }
  },
  "cells": [
    {
      "cell_type": "markdown",
      "metadata": {
        "id": "h1UKLQdhfGB-"
      },
      "source": [
        "\n",
        "**Nombre**: Nicolás Alvarado.\n",
        "\n",
        "# **Actividad 1** \n",
        "\n",
        "Antes de empezar con el práctico, responde la siguiente pregunta con lo visto en clases.\n",
        "\n",
        "**Pregunta**: Explique cómo funciona Slope One (como modelo teórico, no piense en la implementación). En particular explique:\n",
        "\n",
        "Repasemos: ¿Por qué este recomendador es un algoritmo de Filtrado Colaborativo?\n",
        "\n",
        "Este Filtrado Colaborativo, ¿está basado en el usuario o en los items? ¿Por qué?\n",
        "\n",
        "¿Qué datos recibe Slope One y qué hace con ellos? (qué tipo de columnas y qué calculo)\n",
        "\n",
        "¿Qué pasaría si se agrega un nuevo rating a la base de datos?\n",
        "\n",
        "Opcional: ¿Cómo crees que le iría al recomendador con un usuario que acaba de entrar al sistema y ha asignado muy pocos ratings?\n",
        "\n",
        "**Respuesta**: Slope One es de CF ya que usa los ratings generados por los usuarios que han consumido items semejantes. Además está basado en items ya que usa diferencia entre los promedios de los elementos. \n",
        "\n",
        "Slope One recibe los ratings de los usuarios y obtiene el promedio de los ratings por item. Por otra parte, si agregamos un nuevo rating a la base de datos, hay que volver a calcular el promedio."
      ]
    },
    {
      "cell_type": "markdown",
      "metadata": {
        "id": "YuWYob2sg2Ha"
      },
      "source": [
        "# **Configuración Inicial**\n",
        "\n",
        "## **Paso 1**:\n",
        "\n",
        "Descargue directamente a Colab los archivos del dataset ejecutando las siguientes 3 celdas:"
      ]
    },
    {
      "cell_type": "code",
      "metadata": {
        "colab": {
          "base_uri": "https://localhost:8080/"
        },
        "id": "h0DoXbFmg76G",
        "outputId": "be8d6459-22bb-4c6c-aa26-461d3484e52c"
      },
      "source": [
        "!curl -L -o \"u1.base\" \"https://drive.google.com/uc?export=download&id=1bGweNw7NbOHoJz11v6ld7ymLR8MLvBsA\""
      ],
      "execution_count": 1,
      "outputs": [
        {
          "output_type": "stream",
          "name": "stdout",
          "text": [
            "  % Total    % Received % Xferd  Average Speed   Time    Time     Time  Current\n",
            "                                 Dload  Upload   Total   Spent    Left  Speed\n",
            "100   388    0   388    0     0    736      0 --:--:-- --:--:-- --:--:--   736\n",
            "100 1546k  100 1546k    0     0  2251k      0 --:--:-- --:--:-- --:--:-- 2251k\n"
          ]
        }
      ]
    },
    {
      "cell_type": "code",
      "metadata": {
        "colab": {
          "base_uri": "https://localhost:8080/"
        },
        "id": "nyKWmPXCg8P1",
        "outputId": "caf66768-36ce-4be2-fdfe-9909d09b3cbe"
      },
      "source": [
        "!curl -L -o \"u1.test\" \"https://drive.google.com/uc?export=download&id=1f_HwJWC_1HFzgAjKAWKwkuxgjkhkXrVg\""
      ],
      "execution_count": 2,
      "outputs": [
        {
          "output_type": "stream",
          "name": "stdout",
          "text": [
            "  % Total    % Received % Xferd  Average Speed   Time    Time     Time  Current\n",
            "                                 Dload  Upload   Total   Spent    Left  Speed\n",
            "100   388    0   388    0     0    839      0 --:--:-- --:--:-- --:--:--   838\n",
            "100  385k  100  385k    0     0   641k      0 --:--:-- --:--:-- --:--:--  641k\n"
          ]
        }
      ]
    },
    {
      "cell_type": "code",
      "metadata": {
        "colab": {
          "base_uri": "https://localhost:8080/"
        },
        "id": "r4SdHfJ3g8g8",
        "outputId": "14088f81-25b2-4aea-b753-c37bb8c0b0b0"
      },
      "source": [
        "!curl -L -o \"u.item\" \"https://drive.google.com/uc?export=download&id=10YLhxkO2-M_flQtyo9OYV4nT9IvSESuz\""
      ],
      "execution_count": 3,
      "outputs": [
        {
          "output_type": "stream",
          "name": "stdout",
          "text": [
            "  % Total    % Received % Xferd  Average Speed   Time    Time     Time  Current\n",
            "                                 Dload  Upload   Total   Spent    Left  Speed\n",
            "100   388    0   388    0     0   1306      0 --:--:-- --:--:-- --:--:--  1306\n",
            "100  230k  100  230k    0     0   512k      0 --:--:-- --:--:-- --:--:--  512k\n"
          ]
        }
      ]
    },
    {
      "cell_type": "markdown",
      "metadata": {
        "id": "GlHVnZ7ghE8K"
      },
      "source": [
        "Los archivos u1.base y u1.test tienen tuplas {usuario, item, rating, timestamp}, que es la información de preferencias de usuarios sobre películas en una muestra del dataset movielens."
      ]
    },
    {
      "cell_type": "markdown",
      "metadata": {
        "id": "r_5D8WhphG5O"
      },
      "source": [
        "## **Paso 2**:\n",
        "\n",
        "Instalamos pyreclab utilizando pip.**texto en negrita**"
      ]
    },
    {
      "cell_type": "code",
      "metadata": {
        "colab": {
          "base_uri": "https://localhost:8080/"
        },
        "id": "RGiw9thEhClu",
        "outputId": "e5d3e201-9a65-4a09-ade2-524bfefe3f1d"
      },
      "source": [
        "!pip install pyreclab --upgrade"
      ],
      "execution_count": 4,
      "outputs": [
        {
          "output_type": "stream",
          "name": "stdout",
          "text": [
            "Collecting pyreclab\n",
            "  Downloading pyreclab-0.1.15-cp37-cp37m-manylinux2010_x86_64.whl (234 kB)\n",
            "\u001b[?25l\r\u001b[K     |█▍                              | 10 kB 21.0 MB/s eta 0:00:01\r\u001b[K     |██▉                             | 20 kB 14.2 MB/s eta 0:00:01\r\u001b[K     |████▏                           | 30 kB 10.3 MB/s eta 0:00:01\r\u001b[K     |█████▋                          | 40 kB 8.8 MB/s eta 0:00:01\r\u001b[K     |███████                         | 51 kB 4.9 MB/s eta 0:00:01\r\u001b[K     |████████▍                       | 61 kB 5.4 MB/s eta 0:00:01\r\u001b[K     |█████████▊                      | 71 kB 5.0 MB/s eta 0:00:01\r\u001b[K     |███████████▏                    | 81 kB 5.6 MB/s eta 0:00:01\r\u001b[K     |████████████▋                   | 92 kB 5.5 MB/s eta 0:00:01\r\u001b[K     |██████████████                  | 102 kB 4.9 MB/s eta 0:00:01\r\u001b[K     |███████████████▍                | 112 kB 4.9 MB/s eta 0:00:01\r\u001b[K     |████████████████▊               | 122 kB 4.9 MB/s eta 0:00:01\r\u001b[K     |██████████████████▏             | 133 kB 4.9 MB/s eta 0:00:01\r\u001b[K     |███████████████████▌            | 143 kB 4.9 MB/s eta 0:00:01\r\u001b[K     |█████████████████████           | 153 kB 4.9 MB/s eta 0:00:01\r\u001b[K     |██████████████████████▍         | 163 kB 4.9 MB/s eta 0:00:01\r\u001b[K     |███████████████████████▊        | 174 kB 4.9 MB/s eta 0:00:01\r\u001b[K     |█████████████████████████▏      | 184 kB 4.9 MB/s eta 0:00:01\r\u001b[K     |██████████████████████████▌     | 194 kB 4.9 MB/s eta 0:00:01\r\u001b[K     |████████████████████████████    | 204 kB 4.9 MB/s eta 0:00:01\r\u001b[K     |█████████████████████████████▎  | 215 kB 4.9 MB/s eta 0:00:01\r\u001b[K     |██████████████████████████████▊ | 225 kB 4.9 MB/s eta 0:00:01\r\u001b[K     |████████████████████████████████| 234 kB 4.9 MB/s \n",
            "\u001b[?25hInstalling collected packages: pyreclab\n",
            "Successfully installed pyreclab-0.1.15\n"
          ]
        }
      ]
    },
    {
      "cell_type": "markdown",
      "metadata": {
        "id": "cpnqdn-_hTpQ"
      },
      "source": [
        "## **Paso 3**:\n",
        "\n",
        "Hacemos los imports necesarios para este práctico."
      ]
    },
    {
      "cell_type": "code",
      "metadata": {
        "id": "sxzqH0RqhRkt"
      },
      "source": [
        "import pyreclab\n",
        "import numpy as np\n",
        "import pandas as pd"
      ],
      "execution_count": 5,
      "outputs": []
    },
    {
      "cell_type": "markdown",
      "metadata": {
        "id": "M7_ve1pBhdrV"
      },
      "source": [
        "# **El dataset**\n",
        "## **Paso 4**:\n",
        "Ya que queremos crear una lista de recomendación de items para un usuario en especifico, necesitamos obtener información adicional de cada película tal como título, fecha de lanzamiento, género, etc. Cargaremos el archivo de items descargado \"u.item\" para poder mapear cada identificador de ítem al conjunto de datos que lo describe."
      ]
    },
    {
      "cell_type": "code",
      "metadata": {
        "id": "yG3xZILPhdLr"
      },
      "source": [
        "# Definimos el orden de las columnas\n",
        "info_cols = [ 'movieid', 'title', 'release_date', 'video_release_date', 'IMDb_URL', \\\n",
        "              'unknown', 'Action', 'Adventure', 'Animation', 'Children', 'Comedy', \\\n",
        "              'Crime', 'Documentary', 'Drama', 'Fantasy', 'Film-Noir', 'Horror', \\\n",
        "              'Musical', 'Mystery', 'Romance', 'Sci-Fi', 'Thriller', 'War', 'Western' ]\n",
        "\n",
        "# Asignamos a una variable la estructura de datos de los items\n",
        "info_file = pd.read_csv('u.item', sep='|', index_col = 0, names = info_cols, header=None, encoding='latin-1')"
      ],
      "execution_count": 6,
      "outputs": []
    },
    {
      "cell_type": "markdown",
      "metadata": {
        "id": "4rmEuT72hm-l"
      },
      "source": [
        "# **Slope One**\n",
        "## **Paso 5**:\n",
        "Seguiremos un camino muy similar a los ejercicios de User KNN e Item KNN. Crearemos una instancia del algoritmo de recomendación y luego pasaremos a la fase de entrenamiento."
      ]
    },
    {
      "cell_type": "code",
      "metadata": {
        "id": "9pf8_PWvhmjC"
      },
      "source": [
        "# Declaramos la instancia SlopeOne\n",
        "mySlopeOne = pyreclab.SlopeOne(dataset='u1.base', dlmchar=b'\\t', header=False, usercol=0, itemcol=1, ratingcol=2)"
      ],
      "execution_count": 7,
      "outputs": []
    },
    {
      "cell_type": "code",
      "metadata": {
        "id": "IANuofkvh5ob"
      },
      "source": [
        "# Y enntrenamos\n",
        "mySlopeOne.train()"
      ],
      "execution_count": 8,
      "outputs": []
    },
    {
      "cell_type": "markdown",
      "metadata": {
        "id": "jsayGZc4iSUu"
      },
      "source": [
        "# **Actividad 2** \n",
        "\n",
        "**Pregunta**: Explique qué hace el método train() en este caso, dado el modelo teórico. ¿Calcula información?, ¿no hace nada?, ¿ordena los datos?\n",
        "\n",
        "**Respuesta**: El método train() calcula las medias y ordena los datos."
      ]
    },
    {
      "cell_type": "markdown",
      "metadata": {
        "id": "18Wr-dhFiq2v"
      },
      "source": [
        "## **Paso 6**:\n",
        "\n",
        "Llego la hora de predecir el rating."
      ]
    },
    {
      "cell_type": "code",
      "metadata": {
        "colab": {
          "base_uri": "https://localhost:8080/"
        },
        "id": "QyuyBNqJh7K0",
        "outputId": "1f1c531b-80dc-4dce-a306-1039a4a35d1d"
      },
      "source": [
        "# Esta es la predicción de rating que el usuario ID:457 otorgaría al ítem ID:37\n",
        "# De esta forma podemos comparar el resultado con los prácticos anteriores\n",
        "mySlopeOne.predict(\"457\", \"37\")"
      ],
      "execution_count": 9,
      "outputs": [
        {
          "output_type": "execute_result",
          "data": {
            "text/plain": [
              "3.2408759593963623"
            ]
          },
          "metadata": {},
          "execution_count": 9
        }
      ]
    },
    {
      "cell_type": "code",
      "metadata": {
        "id": "R4iTr5I8iuwm"
      },
      "source": [
        "# También podemos guardar la predicción en una variable\n",
        "prediction = mySlopeOne.predict(\"457\", \"37\")"
      ],
      "execution_count": 10,
      "outputs": []
    },
    {
      "cell_type": "code",
      "metadata": {
        "colab": {
          "base_uri": "https://localhost:8080/",
          "height": 419
        },
        "id": "sfS5q7-FiwX_",
        "outputId": "e70f6484-dec7-476a-ecb5-096a62b26427"
      },
      "source": [
        "# Podemos comprobar las peliculas rankeadas por el usuario ID:457\n",
        "# Que ciertamente ha participado activamente (¡156 items!)\n",
        "train_file = pd.read_csv('u1.base', sep='\\t', names = ['userid', 'itemid', 'rating', 'timestamp'], header=None)\n",
        "train_file[train_file['userid'] == 457]"
      ],
      "execution_count": 11,
      "outputs": [
        {
          "output_type": "execute_result",
          "data": {
            "text/html": [
              "<div>\n",
              "<style scoped>\n",
              "    .dataframe tbody tr th:only-of-type {\n",
              "        vertical-align: middle;\n",
              "    }\n",
              "\n",
              "    .dataframe tbody tr th {\n",
              "        vertical-align: top;\n",
              "    }\n",
              "\n",
              "    .dataframe thead th {\n",
              "        text-align: right;\n",
              "    }\n",
              "</style>\n",
              "<table border=\"1\" class=\"dataframe\">\n",
              "  <thead>\n",
              "    <tr style=\"text-align: right;\">\n",
              "      <th></th>\n",
              "      <th>userid</th>\n",
              "      <th>itemid</th>\n",
              "      <th>rating</th>\n",
              "      <th>timestamp</th>\n",
              "    </tr>\n",
              "  </thead>\n",
              "  <tbody>\n",
              "    <tr>\n",
              "      <th>37269</th>\n",
              "      <td>457</td>\n",
              "      <td>1</td>\n",
              "      <td>4</td>\n",
              "      <td>882393244</td>\n",
              "    </tr>\n",
              "    <tr>\n",
              "      <th>37270</th>\n",
              "      <td>457</td>\n",
              "      <td>7</td>\n",
              "      <td>4</td>\n",
              "      <td>882393278</td>\n",
              "    </tr>\n",
              "    <tr>\n",
              "      <th>37271</th>\n",
              "      <td>457</td>\n",
              "      <td>9</td>\n",
              "      <td>5</td>\n",
              "      <td>882393485</td>\n",
              "    </tr>\n",
              "    <tr>\n",
              "      <th>37272</th>\n",
              "      <td>457</td>\n",
              "      <td>11</td>\n",
              "      <td>4</td>\n",
              "      <td>882397020</td>\n",
              "    </tr>\n",
              "    <tr>\n",
              "      <th>37273</th>\n",
              "      <td>457</td>\n",
              "      <td>13</td>\n",
              "      <td>3</td>\n",
              "      <td>882393883</td>\n",
              "    </tr>\n",
              "    <tr>\n",
              "      <th>...</th>\n",
              "      <td>...</td>\n",
              "      <td>...</td>\n",
              "      <td>...</td>\n",
              "      <td>...</td>\n",
              "    </tr>\n",
              "    <tr>\n",
              "      <th>37420</th>\n",
              "      <td>457</td>\n",
              "      <td>1047</td>\n",
              "      <td>2</td>\n",
              "      <td>882395964</td>\n",
              "    </tr>\n",
              "    <tr>\n",
              "      <th>37421</th>\n",
              "      <td>457</td>\n",
              "      <td>1119</td>\n",
              "      <td>4</td>\n",
              "      <td>882398308</td>\n",
              "    </tr>\n",
              "    <tr>\n",
              "      <th>37422</th>\n",
              "      <td>457</td>\n",
              "      <td>1168</td>\n",
              "      <td>5</td>\n",
              "      <td>882548761</td>\n",
              "    </tr>\n",
              "    <tr>\n",
              "      <th>37423</th>\n",
              "      <td>457</td>\n",
              "      <td>1210</td>\n",
              "      <td>4</td>\n",
              "      <td>882549905</td>\n",
              "    </tr>\n",
              "    <tr>\n",
              "      <th>37424</th>\n",
              "      <td>457</td>\n",
              "      <td>1221</td>\n",
              "      <td>4</td>\n",
              "      <td>882549438</td>\n",
              "    </tr>\n",
              "  </tbody>\n",
              "</table>\n",
              "<p>156 rows × 4 columns</p>\n",
              "</div>"
            ],
            "text/plain": [
              "       userid  itemid  rating  timestamp\n",
              "37269     457       1       4  882393244\n",
              "37270     457       7       4  882393278\n",
              "37271     457       9       5  882393485\n",
              "37272     457      11       4  882397020\n",
              "37273     457      13       3  882393883\n",
              "...       ...     ...     ...        ...\n",
              "37420     457    1047       2  882395964\n",
              "37421     457    1119       4  882398308\n",
              "37422     457    1168       5  882548761\n",
              "37423     457    1210       4  882549905\n",
              "37424     457    1221       4  882549438\n",
              "\n",
              "[156 rows x 4 columns]"
            ]
          },
          "metadata": {},
          "execution_count": 11
        }
      ]
    },
    {
      "cell_type": "code",
      "metadata": {
        "colab": {
          "base_uri": "https://localhost:8080/",
          "height": 266
        },
        "id": "62Rc5YIYizM4",
        "outputId": "517da6fb-73ab-49af-f778-f1c203a30ebf"
      },
      "source": [
        "# Y también cuáles usuarios han rankeado la pelicula ID:37\n",
        "train_file[train_file['itemid'] == 37]"
      ],
      "execution_count": 12,
      "outputs": [
        {
          "output_type": "execute_result",
          "data": {
            "text/html": [
              "<div>\n",
              "<style scoped>\n",
              "    .dataframe tbody tr th:only-of-type {\n",
              "        vertical-align: middle;\n",
              "    }\n",
              "\n",
              "    .dataframe tbody tr th {\n",
              "        vertical-align: top;\n",
              "    }\n",
              "\n",
              "    .dataframe thead th {\n",
              "        text-align: right;\n",
              "    }\n",
              "</style>\n",
              "<table border=\"1\" class=\"dataframe\">\n",
              "  <thead>\n",
              "    <tr style=\"text-align: right;\">\n",
              "      <th></th>\n",
              "      <th>userid</th>\n",
              "      <th>itemid</th>\n",
              "      <th>rating</th>\n",
              "      <th>timestamp</th>\n",
              "    </tr>\n",
              "  </thead>\n",
              "  <tbody>\n",
              "    <tr>\n",
              "      <th>1302</th>\n",
              "      <td>13</td>\n",
              "      <td>37</td>\n",
              "      <td>1</td>\n",
              "      <td>882397011</td>\n",
              "    </tr>\n",
              "    <tr>\n",
              "      <th>14851</th>\n",
              "      <td>201</td>\n",
              "      <td>37</td>\n",
              "      <td>2</td>\n",
              "      <td>884114635</td>\n",
              "    </tr>\n",
              "    <tr>\n",
              "      <th>19670</th>\n",
              "      <td>268</td>\n",
              "      <td>37</td>\n",
              "      <td>3</td>\n",
              "      <td>876514002</td>\n",
              "    </tr>\n",
              "    <tr>\n",
              "      <th>29489</th>\n",
              "      <td>363</td>\n",
              "      <td>37</td>\n",
              "      <td>2</td>\n",
              "      <td>891498510</td>\n",
              "    </tr>\n",
              "    <tr>\n",
              "      <th>31084</th>\n",
              "      <td>385</td>\n",
              "      <td>37</td>\n",
              "      <td>4</td>\n",
              "      <td>880013483</td>\n",
              "    </tr>\n",
              "    <tr>\n",
              "      <th>32996</th>\n",
              "      <td>405</td>\n",
              "      <td>37</td>\n",
              "      <td>1</td>\n",
              "      <td>885548384</td>\n",
              "    </tr>\n",
              "    <tr>\n",
              "      <th>62777</th>\n",
              "      <td>773</td>\n",
              "      <td>37</td>\n",
              "      <td>3</td>\n",
              "      <td>888540352</td>\n",
              "    </tr>\n",
              "  </tbody>\n",
              "</table>\n",
              "</div>"
            ],
            "text/plain": [
              "       userid  itemid  rating  timestamp\n",
              "1302       13      37       1  882397011\n",
              "14851     201      37       2  884114635\n",
              "19670     268      37       3  876514002\n",
              "29489     363      37       2  891498510\n",
              "31084     385      37       4  880013483\n",
              "32996     405      37       1  885548384\n",
              "62777     773      37       3  888540352"
            ]
          },
          "metadata": {},
          "execution_count": 12
        }
      ]
    },
    {
      "cell_type": "markdown",
      "metadata": {
        "id": "k5lZ20IHi5jg"
      },
      "source": [
        "# **Actividad 3**\n",
        "\n",
        "Haremos un pequeño experimento para entender mejor como funciona Slope One. Gracias al ejercicio anterior, sabemos que el usuario 457 ya ha asignado el mejor rating (5 ⭐) a las dos peliculas ID:9 e ID:1168. Comparemos.\n",
        "\n",
        "**Pregunta**: ¿Cómo se explican estos resultados?\n",
        "\n",
        "**Respuesta**: Existe una diferencia considerable en las predicciones (4.5 vs 4.1 aproximadamente). Esto tiene sentido ya que no hay recomendaciones comunes."
      ]
    },
    {
      "cell_type": "code",
      "metadata": {
        "colab": {
          "base_uri": "https://localhost:8080/"
        },
        "id": "EJiLT3p3i1Ow",
        "outputId": "66a88e0e-df36-441d-99fc-8fe038e5bf56"
      },
      "source": [
        "prediction_id9 = mySlopeOne.predict(\"457\", \"9\")\n",
        "prediction_id1168 = mySlopeOne.predict(\"457\", \"1168\")\n",
        "\n",
        "print('Prediction for ID:9 :', prediction_id9)\n",
        "print('Prediction for ID:1168 :', prediction_id1168)"
      ],
      "execution_count": 13,
      "outputs": [
        {
          "output_type": "stream",
          "name": "stdout",
          "text": [
            "Prediction for ID:9 : 4.530702114105225\n",
            "Prediction for ID:1168 : 4.166153907775879\n"
          ]
        }
      ]
    },
    {
      "cell_type": "markdown",
      "metadata": {
        "id": "hOh3wGXqkgjs"
      },
      "source": [
        "## **Paso 7**:\n",
        "Generaremos ahora una lista ordenada de las top-N recomendaciones, dado un usuario."
      ]
    },
    {
      "cell_type": "code",
      "metadata": {
        "colab": {
          "base_uri": "https://localhost:8080/"
        },
        "id": "KGSf46i9kF6L",
        "outputId": "268f14c1-d311-49d5-8050-4eee7206bb90"
      },
      "source": [
        "# Mediante el método recommend() genereremos una lista top-5 recomendaciones para el usuario ID:457\n",
        "reclist_slopeone = mySlopeOne.recommend(\"457\", 5)\n",
        "\n",
        "# Y visualizaremos el resultado\n",
        "print('Lista de items según ID:', reclist_slopeone)"
      ],
      "execution_count": 14,
      "outputs": [
        {
          "output_type": "stream",
          "name": "stdout",
          "text": [
            "Lista de items según ID: ['1592', '1589', '1656', '1431', '1653']\n"
          ]
        }
      ]
    },
    {
      "cell_type": "code",
      "metadata": {
        "colab": {
          "base_uri": "https://localhost:8080/"
        },
        "id": "tzKgHi8FklBq",
        "outputId": "72222827-4a5d-4daf-fb05-c380cdb55f52"
      },
      "source": [
        "# Lo convertimos a numpy array\n",
        "recmovies_slopeone = np.array(reclist_slopeone).astype(int)\n",
        "\n",
        "# Utilizamos la estructura de datos de los items para encontrar los títulos recomendados\n",
        "print('Lista de items por nombre:')\n",
        "info_file.loc[recmovies_slopeone]['title']"
      ],
      "execution_count": 15,
      "outputs": [
        {
          "output_type": "stream",
          "name": "stdout",
          "text": [
            "Lista de items por nombre:\n"
          ]
        },
        {
          "output_type": "execute_result",
          "data": {
            "text/plain": [
              "movieid\n",
              "1592                               Magic Hour, The (1998)\n",
              "1589                                   Schizopolis (1996)\n",
              "1656                                   Little City (1998)\n",
              "1431                                  Legal Deceit (1997)\n",
              "1653    Entertaining Angels: The Dorothy Day Story (1996)\n",
              "Name: title, dtype: object"
            ]
          },
          "metadata": {},
          "execution_count": 15
        }
      ]
    },
    {
      "cell_type": "markdown",
      "metadata": {
        "id": "6vjUCE2WkssL"
      },
      "source": [
        "# **Actividad 4** \n",
        "Genera una nueva recomendacion, modificando los hiperparametros de usuario y topN a tu elección.\n",
        "\n",
        "Pregunta: ¿Ves una diferencia en la recomendación entre el nuevo usuario y el usuario ID:457?\n",
        "\n",
        "Respuesta: Usando el usuario 53 y la recomendación Most popular (con topN=30) vemos que existe una recomendación bastante diferente. De hecho, al parecer, solo coincide Terminator 2 como película recomendada."
      ]
    },
    {
      "cell_type": "code",
      "metadata": {
        "id": "DjYNixQ5kxdh"
      },
      "source": [
        "most_popular = pyreclab.MostPopular(dataset='u1.base', dlmchar=b'\\t', header=False, usercol=0, itemcol=1, ratingcol=2)  \n",
        "most_popular.train()"
      ],
      "execution_count": 16,
      "outputs": []
    },
    {
      "cell_type": "code",
      "metadata": {
        "id": "ctPmBvUqkm-a"
      },
      "source": [
        "recmovies_most_popular = most_popular.recommend(\"53\", 30)\n",
        "recmovies_most_popular = np.array(recmovies_most_popular).astype(int)"
      ],
      "execution_count": 17,
      "outputs": []
    },
    {
      "cell_type": "code",
      "metadata": {
        "colab": {
          "base_uri": "https://localhost:8080/"
        },
        "id": "VkFLX_cQlEKg",
        "outputId": "88a26b96-fbce-4b47-e244-4dea6ee56789"
      },
      "source": [
        "info_file.loc[recmovies_most_popular]['title']"
      ],
      "execution_count": 19,
      "outputs": [
        {
          "output_type": "execute_result",
          "data": {
            "text/plain": [
              "movieid\n",
              "50                                 Star Wars (1977)\n",
              "100                                    Fargo (1996)\n",
              "258                                  Contact (1997)\n",
              "181                       Return of the Jedi (1983)\n",
              "294                                Liar Liar (1997)\n",
              "286                     English Patient, The (1996)\n",
              "288                                   Scream (1996)\n",
              "1                                  Toy Story (1995)\n",
              "121                   Independence Day (ID4) (1996)\n",
              "300                            Air Force One (1997)\n",
              "127                           Godfather, The (1972)\n",
              "7                             Twelve Monkeys (1995)\n",
              "98                 Silence of the Lambs, The (1991)\n",
              "172                 Empire Strikes Back, The (1980)\n",
              "56                              Pulp Fiction (1994)\n",
              "237                            Jerry Maguire (1996)\n",
              "204                       Back to the Future (1985)\n",
              "313                                  Titanic (1997)\n",
              "173                      Princess Bride, The (1987)\n",
              "405                      Mission: Impossible (1996)\n",
              "79                             Fugitive, The (1993)\n",
              "151    Willy Wonka and the Chocolate Factory (1971)\n",
              "210       Indiana Jones and the Last Crusade (1989)\n",
              "269                          Full Monty, The (1997)\n",
              "69                              Forrest Gump (1994)\n",
              "748                               Saint, The (1997)\n",
              "96                Terminator 2: Judgment Day (1991)\n",
              "22                                Braveheart (1995)\n",
              "9                           Dead Man Walking (1995)\n",
              "168          Monty Python and the Holy Grail (1974)\n",
              "Name: title, dtype: object"
            ]
          },
          "metadata": {},
          "execution_count": 19
        }
      ]
    },
    {
      "cell_type": "code",
      "metadata": {
        "colab": {
          "base_uri": "https://localhost:8080/"
        },
        "id": "pfrxYYdYk7ZQ",
        "outputId": "0904bd4b-2649-4ff7-8c31-9fab58e693e4"
      },
      "source": [
        "new_recommendation = mySlopeOne.recommend(\"53\", 30)\n",
        "print('Lista de items según ID:', new_recommendation)\n",
        "new_recmovies_slopeone = np.array(new_recommendation).astype(int)\n",
        "info_file.loc[new_recmovies_slopeone]['title']"
      ],
      "execution_count": 18,
      "outputs": [
        {
          "output_type": "stream",
          "name": "stdout",
          "text": [
            "Lista de items según ID: ['1653', '1064', '1642', '1639', '1599', '1512', '1450', '1536', '1500', '1463', '1449', '1398', '1201', '814', '113', '112', '111', '110', '109', '108', '107', '106', '104', '102', '101', '97', '96', '95', '94', '92']\n"
          ]
        },
        {
          "output_type": "execute_result",
          "data": {
            "text/plain": [
              "movieid\n",
              "1653    Entertaining Angels: The Dorothy Day Story (1996)\n",
              "1064                                     Crossfire (1947)\n",
              "1642                             Some Mother's Son (1996)\n",
              "1639                  Bitter Sugar (Azucar Amargo) (1996)\n",
              "1599                        Someone Else's America (1995)\n",
              "1512               World of Apu, The (Apur Sansar) (1959)\n",
              "1450                               Golden Earrings (1947)\n",
              "1536                                 Aiqing wansui (1994)\n",
              "1500                            Santa with Muscles (1996)\n",
              "1463                                     Boys, Les (1997)\n",
              "1449                               Pather Panchali (1955)\n",
              "1398                                          Anna (1996)\n",
              "1201           Marlene Dietrich: Shadow and Light (1996) \n",
              "814                         Great Day in Harlem, A (1994)\n",
              "113     Horseman on the Roof, The (Hussard sur le toit...\n",
              "112                                        Flipper (1996)\n",
              "111                   Truth About Cats & Dogs, The (1996)\n",
              "110                           Operation Dumbo Drop (1995)\n",
              "109        Mystery Science Theater 3000: The Movie (1996)\n",
              "108                  Kids in the Hall: Brain Candy (1996)\n",
              "107                                  Moll Flanders (1996)\n",
              "106                                     Diabolique (1996)\n",
              "104                                   Theodore Rex (1995)\n",
              "102                                Aristocats, The (1970)\n",
              "101                                    Heavy Metal (1981)\n",
              "97                              Dances with Wolves (1990)\n",
              "96                      Terminator 2: Judgment Day (1991)\n",
              "95                                         Aladdin (1992)\n",
              "94                                      Home Alone (1990)\n",
              "92                                    True Romance (1993)\n",
              "Name: title, dtype: object"
            ]
          },
          "metadata": {},
          "execution_count": 18
        }
      ]
    },
    {
      "cell_type": "markdown",
      "metadata": {
        "id": "KINpzyAXmDwR"
      },
      "source": [
        "\n",
        "# **Actividad 5**\n",
        "\n",
        "Dado el usuario ID:44, cree dos listas de películas recomendadas; la primera utilizando el algoritmo Most Popular y la segunda utilizando el algoritmo Slope One.\n",
        "\n",
        "**Pregunta**: Realice un analisis apreciativo de las similitudes y diferencias entre ambas recomendaciones.\n",
        "\n",
        "Respuesta: En esta parte, vemos que la recomendación para el usuario 44 es exactamente la misma ya sea usando Most Popular o Slope One."
      ]
    },
    {
      "cell_type": "code",
      "metadata": {
        "colab": {
          "base_uri": "https://localhost:8080/"
        },
        "id": "1BkrNueumPIS",
        "outputId": "199cc55b-0092-43ef-8b0f-df333534faaf"
      },
      "source": [
        "ranking = [int(r) for r in most_popular.recommend(\"44\", 10, includeRated=False)]\n",
        "print('Recommendation for user {}: {}'.format(\"44\", ranking))\n",
        "print('Lista de items por nombre:')\n",
        "info_file.loc[recmovies_slopeone]['title']"
      ],
      "execution_count": 24,
      "outputs": [
        {
          "output_type": "stream",
          "name": "stdout",
          "text": [
            "Recommendation for user 44: [50, 100, 181, 286, 1, 121, 300, 127, 7, 98]\n",
            "Lista de items por nombre:\n"
          ]
        },
        {
          "output_type": "execute_result",
          "data": {
            "text/plain": [
              "movieid\n",
              "1656                        Little City (1998)\n",
              "1064                          Crossfire (1947)\n",
              "1643                         Angel Baby (1995)\n",
              "1642                  Some Mother's Son (1996)\n",
              "1625                         Nightwatch (1997)\n",
              "1599             Someone Else's America (1995)\n",
              "1512    World of Apu, The (Apur Sansar) (1959)\n",
              "1536                      Aiqing wansui (1994)\n",
              "1500                 Santa with Muscles (1996)\n",
              "1467      Saint of Fort Washington, The (1993)\n",
              "Name: title, dtype: object"
            ]
          },
          "metadata": {},
          "execution_count": 24
        }
      ]
    },
    {
      "cell_type": "code",
      "metadata": {
        "colab": {
          "base_uri": "https://localhost:8080/"
        },
        "id": "i9x5KtZnlAfJ",
        "outputId": "3db22c68-dbdb-46ee-9619-c31ba427b4d1"
      },
      "source": [
        "reclist_slopeone = mySlopeOne.recommend(\"44\", 10)\n",
        "recmovies_slopeone = np.array(reclist_slopeone).astype(int)\n",
        "print('Lista de items por nombre:')\n",
        "info_file.loc[recmovies_slopeone]['title']"
      ],
      "execution_count": 25,
      "outputs": [
        {
          "output_type": "stream",
          "name": "stdout",
          "text": [
            "Lista de items por nombre:\n"
          ]
        },
        {
          "output_type": "execute_result",
          "data": {
            "text/plain": [
              "movieid\n",
              "1656                        Little City (1998)\n",
              "1064                          Crossfire (1947)\n",
              "1643                         Angel Baby (1995)\n",
              "1642                  Some Mother's Son (1996)\n",
              "1625                         Nightwatch (1997)\n",
              "1599             Someone Else's America (1995)\n",
              "1512    World of Apu, The (Apur Sansar) (1959)\n",
              "1536                      Aiqing wansui (1994)\n",
              "1500                 Santa with Muscles (1996)\n",
              "1467      Saint of Fort Washington, The (1993)\n",
              "Name: title, dtype: object"
            ]
          },
          "metadata": {},
          "execution_count": 25
        }
      ]
    }
  ]
}